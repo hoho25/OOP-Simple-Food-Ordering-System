{
  "nbformat": 4,
  "nbformat_minor": 0,
  "metadata": {
    "colab": {
      "name": "Simple Food Ordering System (OOP).ipynb",
      "provenance": [],
      "collapsed_sections": [],
      "include_colab_link": true
    },
    "kernelspec": {
      "display_name": "Python 3",
      "language": "python",
      "name": "python3"
    },
    "language_info": {
      "codemirror_mode": {
        "name": "ipython",
        "version": 3
      },
      "file_extension": ".py",
      "mimetype": "text/x-python",
      "name": "python",
      "nbconvert_exporter": "python",
      "pygments_lexer": "ipython3",
      "version": "3.8.3"
    }
  },
  "cells": [
    {
      "cell_type": "markdown",
      "metadata": {
        "id": "view-in-github",
        "colab_type": "text"
      },
      "source": [
        "<a href=\"https://colab.research.google.com/github/hoho25/OOP-Simple-Food-Ordering-System/blob/main/Simple_Food_Ordering_System.ipynb\" target=\"_parent\"><img src=\"https://colab.research.google.com/assets/colab-badge.svg\" alt=\"Open In Colab\"/></a>"
      ]
    },
    {
      "cell_type": "markdown",
      "metadata": {
        "id": "c9Ttb1sTCHmb"
      },
      "source": [
        "# **About**\n",
        "**Prepared by: ©️ Ho Yie Don 👩‍✈️💻**\n",
        "\n",
        "**Github:** [hoho25/OOP-Simple-Food-Ordering-System](https://github.com/hoho25/OOP-Simple-Food-Ordering-System)\n",
        "\n",
        "For further enquiries, please reach out to me through [LinkedIn](https://www.linkedin.com/in/yiedonho/)\n",
        "\n",
        "You may fill up the [feedback form](https://forms.gle/4gnRvjkjaiw7KG1d9) if you have any comment or found any bug. Your response is greatly appreciated! 😊"
      ]
    },
    {
      "cell_type": "markdown",
      "metadata": {
        "id": "ecW0Q1ZCOXpA"
      },
      "source": [
        "## **Notice**\n",
        "\n",
        "The practical handout is open-source and under \n",
        "[GNU General Public License v3.0](https://www.gnu.org/licenses/gpl-3.0.en.html).\n",
        "\n",
        "Please cite my repository/work if you are using any contents written in this practical handout. \n",
        "\n",
        "You may just click `File → Save a copy in Drive` to clone and save a new copy into your Drive. \n",
        "\n",
        "---"
      ]
    },
    {
      "cell_type": "markdown",
      "metadata": {
        "id": "mpWlL7HxB7cS"
      },
      "source": [
        "# **Simple Food Ordering System**\n",
        "Design a simple interactive food ordering system. Include the following criteria for your design.\n",
        "\n",
        "- Apply the Object-Oriented concepts\n",
        "- List down a few food with price (use LIST or DICTIONARY or.. depends on your creativity)\n",
        "- Create a simple interactive system to ask the customer to key in the foods that s/he wants to buy ; and any other details \n",
        "- Include some useful methods, such as foodPrice,tax, totalAmount, averageAmountPerPax etc"
      ]
    },
    {
      "cell_type": "markdown",
      "metadata": {
        "id": "GWOmTpf7bis1"
      },
      "source": [
        "---\n",
        "## Part 1: **Simple Object Oriented Programming**"
      ]
    },
    {
      "cell_type": "code",
      "metadata": {
        "id": "paDodNVadT6w"
      },
      "source": [
        "# DEFAULT : Create a dictionary with Product Code as KEY, Price per kg as VALUES\n",
        "\n",
        "# codes = { \"chicken\": \"M1\",   \"pork\": \"M2\",   \"beef\": \"M3\",    \"lamb\": \"M4\",\n",
        "#             \"squid\": \"S1\",  \"prawn\": \"S2\",   \"crab\": \"S3\", \"lobster\": \"S4\",\n",
        "#          \"brocolli\": \"V1\", \"carrot\": \"V2\", \"tomato\": \"V3\", \"lettuce\": \"V4\", \"bitter gourd\": \"V5\",\n",
        "#             \"apple\": \"F1\", \"banana\": \"F2\", \"orange\": \"F3\",    \"kiwi\": \"F4\", \"watermelon\": \"F5\",}\n",
        "\n",
        "# foods_prices = {\"M1\": 20, \"M2\": 25, \"M3\": 20, \"M4\": 30, \n",
        "#                 \"S1\": 20, \"S2\": 35, \"S3\": 40, \"S4\": 60,\n",
        "#                 \"V1\":  9, \"V2\":  5, \"V3\":  8, \"V4\":  4, \"V5\":  6,\n",
        "#                 \"F1\": 10, \"F2\":  8, \"F3\": 12, \"F4\": 15, \"F5\": 11}"
      ],
      "execution_count": null,
      "outputs": []
    },
    {
      "cell_type": "code",
      "metadata": {
        "colab": {
          "base_uri": "https://localhost:8080/",
          "height": 644
        },
        "id": "VLxAZkgE8qr2",
        "outputId": "8f31e4ab-0ce8-4470-af8e-9744633876a6"
      },
      "source": [
        "# A sample menu for market groceries\n",
        "# Import pandas library\n",
        "import pandas as pd\n",
        "\n",
        "my_matrix = [[\"Chicken\", 20],  [\"Pork\", 25],   [\"Beef\", 20], [\"Lamb\", 30],\n",
        "               [\"Squid\", 20], [\"Prawn\", 35],   [\"Crab\", 40], [\"Lobster\", 60],\n",
        "             [\"Brocolli\", 9], [\"Carrot\", 5],  [\"Tomato\", 8], [\"Lettuce\", 4], [\"Bitter Gourd\", 6], \n",
        "               [\"Apple\", 10], [\"Banana\", 8], [\"Orange\", 12], [\"Kiwi\", 15], [\"Watermelon\", 11]]\n",
        "\n",
        "outside = \"{0},{0},{0},{0},{1},{1},{1},{1},{2},{2},{2},{2},{2},{3},{3},{3},{3},{3}\"\\\n",
        "          .format(\"Meats\", \"Seafoods\", \"Vegetables\", \"Fruits\").split(\",\")\n",
        "inside  = ['M1', 'M2', 'M3', 'M4', \n",
        "           'S1', 'S2', 'S3', 'S4',\n",
        "           'V1', 'V2', 'V3', 'V4', 'V5', \n",
        "           'F1', 'F2', 'F3', 'F4', 'F5']\n",
        "hier_index = list(zip(outside,inside))             # To form a list of tuples\n",
        "hier_index = pd.MultiIndex.from_tuples(hier_index) # To form a multiindex from multiple tuples\n",
        "\n",
        "# To form a data frame by using pandas library\n",
        "# Name the index names\n",
        "menu = pd.DataFrame(data = my_matrix, index = hier_index , columns = ['Food Ingredients', 'Prices/kg'])\n",
        "menu.index.names = [\"Categories\", \"Code\"]\n",
        "menu"
      ],
      "execution_count": null,
      "outputs": [
        {
          "output_type": "execute_result",
          "data": {
            "text/html": [
              "<div>\n",
              "<style scoped>\n",
              "    .dataframe tbody tr th:only-of-type {\n",
              "        vertical-align: middle;\n",
              "    }\n",
              "\n",
              "    .dataframe tbody tr th {\n",
              "        vertical-align: top;\n",
              "    }\n",
              "\n",
              "    .dataframe thead th {\n",
              "        text-align: right;\n",
              "    }\n",
              "</style>\n",
              "<table border=\"1\" class=\"dataframe\">\n",
              "  <thead>\n",
              "    <tr style=\"text-align: right;\">\n",
              "      <th></th>\n",
              "      <th></th>\n",
              "      <th>Food Ingredients</th>\n",
              "      <th>Prices/kg</th>\n",
              "    </tr>\n",
              "    <tr>\n",
              "      <th>Categories</th>\n",
              "      <th>Code</th>\n",
              "      <th></th>\n",
              "      <th></th>\n",
              "    </tr>\n",
              "  </thead>\n",
              "  <tbody>\n",
              "    <tr>\n",
              "      <th rowspan=\"4\" valign=\"top\">Meats</th>\n",
              "      <th>M1</th>\n",
              "      <td>Chicken</td>\n",
              "      <td>20</td>\n",
              "    </tr>\n",
              "    <tr>\n",
              "      <th>M2</th>\n",
              "      <td>Pork</td>\n",
              "      <td>25</td>\n",
              "    </tr>\n",
              "    <tr>\n",
              "      <th>M3</th>\n",
              "      <td>Beef</td>\n",
              "      <td>20</td>\n",
              "    </tr>\n",
              "    <tr>\n",
              "      <th>M4</th>\n",
              "      <td>Lamb</td>\n",
              "      <td>30</td>\n",
              "    </tr>\n",
              "    <tr>\n",
              "      <th rowspan=\"4\" valign=\"top\">Seafoods</th>\n",
              "      <th>S1</th>\n",
              "      <td>Squid</td>\n",
              "      <td>20</td>\n",
              "    </tr>\n",
              "    <tr>\n",
              "      <th>S2</th>\n",
              "      <td>Prawn</td>\n",
              "      <td>35</td>\n",
              "    </tr>\n",
              "    <tr>\n",
              "      <th>S3</th>\n",
              "      <td>Crab</td>\n",
              "      <td>40</td>\n",
              "    </tr>\n",
              "    <tr>\n",
              "      <th>S4</th>\n",
              "      <td>Lobster</td>\n",
              "      <td>60</td>\n",
              "    </tr>\n",
              "    <tr>\n",
              "      <th rowspan=\"5\" valign=\"top\">Vegetables</th>\n",
              "      <th>V1</th>\n",
              "      <td>Brocolli</td>\n",
              "      <td>9</td>\n",
              "    </tr>\n",
              "    <tr>\n",
              "      <th>V2</th>\n",
              "      <td>Carrot</td>\n",
              "      <td>5</td>\n",
              "    </tr>\n",
              "    <tr>\n",
              "      <th>V3</th>\n",
              "      <td>Tomato</td>\n",
              "      <td>8</td>\n",
              "    </tr>\n",
              "    <tr>\n",
              "      <th>V4</th>\n",
              "      <td>Lettuce</td>\n",
              "      <td>4</td>\n",
              "    </tr>\n",
              "    <tr>\n",
              "      <th>V5</th>\n",
              "      <td>Bitter Gourd</td>\n",
              "      <td>6</td>\n",
              "    </tr>\n",
              "    <tr>\n",
              "      <th rowspan=\"5\" valign=\"top\">Fruits</th>\n",
              "      <th>F1</th>\n",
              "      <td>Apple</td>\n",
              "      <td>10</td>\n",
              "    </tr>\n",
              "    <tr>\n",
              "      <th>F2</th>\n",
              "      <td>Banana</td>\n",
              "      <td>8</td>\n",
              "    </tr>\n",
              "    <tr>\n",
              "      <th>F3</th>\n",
              "      <td>Orange</td>\n",
              "      <td>12</td>\n",
              "    </tr>\n",
              "    <tr>\n",
              "      <th>F4</th>\n",
              "      <td>Kiwi</td>\n",
              "      <td>15</td>\n",
              "    </tr>\n",
              "    <tr>\n",
              "      <th>F5</th>\n",
              "      <td>Watermelon</td>\n",
              "      <td>11</td>\n",
              "    </tr>\n",
              "  </tbody>\n",
              "</table>\n",
              "</div>"
            ],
            "text/plain": [
              "                Food Ingredients  Prices/kg\n",
              "Categories Code                            \n",
              "Meats      M1            Chicken         20\n",
              "           M2               Pork         25\n",
              "           M3               Beef         20\n",
              "           M4               Lamb         30\n",
              "Seafoods   S1              Squid         20\n",
              "           S2              Prawn         35\n",
              "           S3               Crab         40\n",
              "           S4            Lobster         60\n",
              "Vegetables V1           Brocolli          9\n",
              "           V2             Carrot          5\n",
              "           V3             Tomato          8\n",
              "           V4            Lettuce          4\n",
              "           V5       Bitter Gourd          6\n",
              "Fruits     F1              Apple         10\n",
              "           F2             Banana          8\n",
              "           F3             Orange         12\n",
              "           F4               Kiwi         15\n",
              "           F5         Watermelon         11"
            ]
          },
          "metadata": {
            "tags": []
          },
          "execution_count": 1
        }
      ]
    },
    {
      "cell_type": "markdown",
      "metadata": {
        "id": "S3AniB0Knhsy"
      },
      "source": [
        "### **Declare a Simple Class**"
      ]
    },
    {
      "cell_type": "code",
      "metadata": {
        "id": "UtY-LZi_noop"
      },
      "source": [
        "# Declaring a Class HappyFresh()\n",
        "\n",
        "#- def init(self) is a method with parameter self (bcz it is inside classes.)\n",
        "#  When a function is defined inside a class, we call it a method.\n",
        "\n",
        "#- Parameter (self) tells Python to define these variables for the instance as a whole.\n",
        "#- In other words, any other code inside this class would be able to see those variables, as long as it is accessed -- them with self as well. \n",
        "#  And they persist even after running this method is done."
      ],
      "execution_count": null,
      "outputs": []
    },
    {
      "cell_type": "code",
      "metadata": {
        "id": "uiUct7VTnovR"
      },
      "source": [
        "import pandas as pd\n",
        "\n",
        "class HappyFresh():\n",
        "    \"\"\"\n",
        "    *~ Encapsulating Methods ~* \n",
        "    \n",
        "1. Methods: Initialization Constructor -> def __init__(self, cust_name, TotalAmount = 0):\n",
        "  - Initialize attribute/ instance variable of an object: cust_name, cart, TotalAmount, foods_prices\n",
        "  - To avoid defining certain fixed attribute all the times:\n",
        "    * Set default value of TotalAmount as 0 \n",
        "    * Set default value of cart as {} (an empty dictionary)\n",
        "    * Set default value of foods_prices as {} (an defined dictionary with product code as keys & price as values)    \n",
        "    \n",
        "2. Methods: Getters -> def get_menu(self): | def get_cart(self): | def get_TotalAmount\n",
        "  - Returns the value of a variable contained within the class.\n",
        "    \n",
        "3. Methods: Setters -> def add_orders(self, code, unit): | def remove_orders(self, code_to_be_removed, unit):\n",
        "  - Sets a variable contained within the class to a new value.\n",
        "    \"\"\"\n",
        "    \n",
        "    # Create a Class Object Attribute: SAME for ANY instance of class\n",
        "    # For Class object attribute:      self.foods_prices = HappyFresh.foods_prices \n",
        "    foods_prices = {\"M1\": 20, \"M2\": 25, \"M3\": 20, \"M4\": 30, \n",
        "                    \"S1\": 20, \"S2\": 35, \"S3\": 40, \"S4\": 60,\n",
        "                    \"V1\":  9, \"V2\":  5, \"V3\":  8, \"V4\":  4, \"V5\":  6,\n",
        "                    \"F1\": 10, \"F2\":  8, \"F3\": 12, \"F4\": 15, \"F5\": 11}\n",
        "    \n",
        "    # Class HappyFresh gets instantiated with cust_name, TotalAmount(default: 0), cart(default: {})\n",
        "    def __init__(self, cust_name, TotalAmount = 0):\n",
        "        self.cust_name    = cust_name\n",
        "        self.TotalAmount  = TotalAmount\n",
        "        self.cart         = {}\n",
        "        \n",
        "        \n",
        "    # Getter Method for getting menu\n",
        "    def get_menu(self):\n",
        "        my_matrix = [[\"Chicken\", 20],  [\"Pork\", 25],   [\"Beef\", 20], [\"Lamb\", 30],\n",
        "                       [\"Squid\", 20], [\"Prawn\", 35],   [\"Crab\", 40], [\"Lobster\", 60],\n",
        "                     [\"Brocolli\", 9], [\"Carrot\", 5],  [\"Tomato\", 8], [\"Lettuce\", 4], [\"Bitter Gourd\", 6], \n",
        "                       [\"Apple\", 10], [\"Banana\", 8], [\"Orange\", 12], [\"Kiwi\", 15], [\"Watermelon\", 11]]\n",
        "        outside = \"{0},{0},{0},{0},{1},{1},{1},{1},{2},{2},{2},{2},{2},{3},{3},{3},{3},{3}\"\\\n",
        "                  .format(\"Meats\", \"Seafoods\", \"Vegetables\", \"Fruits\").split(\",\")\n",
        "        inside  = ['M1', 'M2', 'M3', 'M4', \n",
        "                   'S1', 'S2', 'S3', 'S4',\n",
        "                   'V1', 'V2', 'V3', 'V4', 'V5', \n",
        "                   'F1', 'F2', 'F3', 'F4', 'F5']\n",
        "        hier_index = list(zip(outside,inside))\n",
        "        hier_index = pd.MultiIndex.from_tuples(hier_index)\n",
        "        menu = pd.DataFrame(data = my_matrix, index = hier_index , columns = ['Food Ingredients', 'Prices/kg'])\n",
        "        menu.index.names = [\"Categories\", \"Code\"]\n",
        "        \n",
        "        print(\"\"\".~~~~~~~~~~~~~~~~~~~~~~~~~~~~~~~~~~~~~~~~~~~~~~~~~~~~~~~~~~~~~~~~~~~~~~~~~~~~~~~~.\n",
        "| Good day {}, welcome to Happy Fresh store!                                    |\n",
        "| We have a wide variety of fresh offerings today.                               |\n",
        "| ** Special weeklong promotion extravaganza!!! **                               |\n",
        "|  ( Get 20% off your total order plus FREE delivery if you spend above RM100! ) |\n",
        "| Let's start shopping! =)                                                       |\n",
        ".~~~~~~~~~~~~~~~~~~~~~~~~~~~~~~~~~~~~~~~~~~~~~~~~~~~~~~~~~~~~~~~~~~~~~~~~~~~~~~~~.\"\"\".format(self.cust_name))\n",
        "        return menu\n",
        "    \n",
        "    # Setter Method for adding orders into cart\n",
        "    def add_orders(self, code, unit):\n",
        "        self.TotalAmount += self.foods_prices[code] * unit\n",
        "        self.cart[code] = unit\n",
        "    \n",
        "    # Setter Method for removing orders from cart\n",
        "    def remove_orders(self, code_to_be_removed, unit):\n",
        "        self.TotalAmount -= HappyFresh.foods_prices[code_to_be_removed] * unit\n",
        "        self.cart.pop(code_to_be_removed)\n",
        "\n",
        "    # Getter Method for getting the selected lists in shopping cart\n",
        "    def get_cart(self):\n",
        "        if self.TotalAmount < 100:\n",
        "            print(\"You may top up another RM{:.2f} to get 20% off and FREE delivery.\".format(100 - self.TotalAmount))\n",
        "        return (\"Your Shopping Cart: {}\".format(self.cart))\n",
        "\n",
        "    # Getter Method for getting the total amount for each customer\n",
        "    def get_TotalAmount(self, deliveryFee = 10):\n",
        "        if self.TotalAmount == 0:\n",
        "            return (\"Your shopping cart is empty. Thank you for browsing our store. Hope to see you again next time. Have a good day!\")\n",
        "        elif self.TotalAmount < 100:\n",
        "            self.TotalAmount += deliveryFee\n",
        "            print(\"Your Shopping Cart: {}\".format(self.cart))\n",
        "            print(\"Delivery Fee : RM 10.00\")\n",
        "            print(\"Total Amount : RM {:.2f}\".format(self.TotalAmount))\n",
        "        else:\n",
        "            print(\"Your Shopping Cart: {}\".format(self.cart))\n",
        "            print(\"Total Saved (20%) : RM {:7.2f}\".format(self.TotalAmount * 0.2))\n",
        "            print(\"Total Amount      : RM {:7.2f}\".format(self.TotalAmount * 0.8))\n",
        "        return (\"Please proceed to checkout your cart. Thank you for shopping with us!\")"
      ],
      "execution_count": null,
      "outputs": []
    },
    {
      "cell_type": "code",
      "metadata": {
        "colab": {
          "base_uri": "https://localhost:8080/"
        },
        "id": "eTqpxOlsngrJ",
        "outputId": "55072663-d4a2-4d6b-8053-ad3960b9fad6"
      },
      "source": [
        "# To get the doc stored in class HappyFresh\n",
        "print(HappyFresh.__doc__)"
      ],
      "execution_count": null,
      "outputs": [
        {
          "output_type": "stream",
          "text": [
            "\n",
            "    *~ Encapsulating Methods ~* \n",
            "    \n",
            "1. Initialization Constructor -> def __init__(self, cust_name, TotalAmount = 0):\n",
            "  - Initialize attribute/ instance variable of an object: cust_name, cart, TotalAmount, foods_prices\n",
            "  - To avoid defining certain fixed attribute all the times:\n",
            "    * Set default value of TotalAmount as 0 \n",
            "    * Set default value of cart as {} (an empty dictionary)\n",
            "    * Set default value of foods_prices as {} (an defined dictionary with product code as keys & price as values)    \n",
            "    \n",
            "2. Methods: Getters -> def get_menu(self): | def get_cart(self): | def get_TotalAmount\n",
            "  - Returns the value of a variable contained within the class.\n",
            "    \n",
            "3. Methods: Setters -> def add_orders(self, code, unit): | def remove_orders(self, code_to_be_removed, unit):\n",
            "  - Sets a variable contained within the class to a new value.\n",
            "    \n"
          ],
          "name": "stdout"
        }
      ]
    },
    {
      "cell_type": "markdown",
      "metadata": {
        "id": "4vjwdnksoG35"
      },
      "source": [
        "---\n",
        "### First way: **Create instance manually**"
      ]
    },
    {
      "cell_type": "code",
      "metadata": {
        "colab": {
          "base_uri": "https://localhost:8080/",
          "height": 765
        },
        "id": "nGl2c5Frng2X",
        "outputId": "91d81f74-58ff-4e47-d679-0610d16e10b2"
      },
      "source": [
        "# First way: Code manually\n",
        "# 1. Create an instance of HappyFresh() class\n",
        "# 2. To get the menu\n",
        "\n",
        "customer = HappyFresh(\"Don\")\n",
        "customer.get_menu()"
      ],
      "execution_count": null,
      "outputs": [
        {
          "output_type": "stream",
          "text": [
            ".~~~~~~~~~~~~~~~~~~~~~~~~~~~~~~~~~~~~~~~~~~~~~~~~~~~~~~~~~~~~~~~~~~~~~~~~~~~~~~~~.\n",
            "| Good day Don, welcome to Happy Fresh store!                                    |\n",
            "| We have a wide variety of fresh offerings today.                               |\n",
            "| ** Special weeklong promotion extravaganza!!! **                               |\n",
            "|  ( Get 20% off your total order plus FREE delivery if you spend above RM100! ) |\n",
            "| Let's start shopping! =)                                                       |\n",
            ".~~~~~~~~~~~~~~~~~~~~~~~~~~~~~~~~~~~~~~~~~~~~~~~~~~~~~~~~~~~~~~~~~~~~~~~~~~~~~~~~.\n"
          ],
          "name": "stdout"
        },
        {
          "output_type": "execute_result",
          "data": {
            "text/html": [
              "<div>\n",
              "<style scoped>\n",
              "    .dataframe tbody tr th:only-of-type {\n",
              "        vertical-align: middle;\n",
              "    }\n",
              "\n",
              "    .dataframe tbody tr th {\n",
              "        vertical-align: top;\n",
              "    }\n",
              "\n",
              "    .dataframe thead th {\n",
              "        text-align: right;\n",
              "    }\n",
              "</style>\n",
              "<table border=\"1\" class=\"dataframe\">\n",
              "  <thead>\n",
              "    <tr style=\"text-align: right;\">\n",
              "      <th></th>\n",
              "      <th></th>\n",
              "      <th>Food Ingredients</th>\n",
              "      <th>Prices/kg</th>\n",
              "    </tr>\n",
              "    <tr>\n",
              "      <th>Categories</th>\n",
              "      <th>Code</th>\n",
              "      <th></th>\n",
              "      <th></th>\n",
              "    </tr>\n",
              "  </thead>\n",
              "  <tbody>\n",
              "    <tr>\n",
              "      <th rowspan=\"4\" valign=\"top\">Meats</th>\n",
              "      <th>M1</th>\n",
              "      <td>Chicken</td>\n",
              "      <td>20</td>\n",
              "    </tr>\n",
              "    <tr>\n",
              "      <th>M2</th>\n",
              "      <td>Pork</td>\n",
              "      <td>25</td>\n",
              "    </tr>\n",
              "    <tr>\n",
              "      <th>M3</th>\n",
              "      <td>Beef</td>\n",
              "      <td>20</td>\n",
              "    </tr>\n",
              "    <tr>\n",
              "      <th>M4</th>\n",
              "      <td>Lamb</td>\n",
              "      <td>30</td>\n",
              "    </tr>\n",
              "    <tr>\n",
              "      <th rowspan=\"4\" valign=\"top\">Seafoods</th>\n",
              "      <th>S1</th>\n",
              "      <td>Squid</td>\n",
              "      <td>20</td>\n",
              "    </tr>\n",
              "    <tr>\n",
              "      <th>S2</th>\n",
              "      <td>Prawn</td>\n",
              "      <td>35</td>\n",
              "    </tr>\n",
              "    <tr>\n",
              "      <th>S3</th>\n",
              "      <td>Crab</td>\n",
              "      <td>40</td>\n",
              "    </tr>\n",
              "    <tr>\n",
              "      <th>S4</th>\n",
              "      <td>Lobster</td>\n",
              "      <td>60</td>\n",
              "    </tr>\n",
              "    <tr>\n",
              "      <th rowspan=\"5\" valign=\"top\">Vegetables</th>\n",
              "      <th>V1</th>\n",
              "      <td>Brocolli</td>\n",
              "      <td>9</td>\n",
              "    </tr>\n",
              "    <tr>\n",
              "      <th>V2</th>\n",
              "      <td>Carrot</td>\n",
              "      <td>5</td>\n",
              "    </tr>\n",
              "    <tr>\n",
              "      <th>V3</th>\n",
              "      <td>Tomato</td>\n",
              "      <td>8</td>\n",
              "    </tr>\n",
              "    <tr>\n",
              "      <th>V4</th>\n",
              "      <td>Lettuce</td>\n",
              "      <td>4</td>\n",
              "    </tr>\n",
              "    <tr>\n",
              "      <th>V5</th>\n",
              "      <td>Bitter Gourd</td>\n",
              "      <td>6</td>\n",
              "    </tr>\n",
              "    <tr>\n",
              "      <th rowspan=\"5\" valign=\"top\">Fruits</th>\n",
              "      <th>F1</th>\n",
              "      <td>Apple</td>\n",
              "      <td>10</td>\n",
              "    </tr>\n",
              "    <tr>\n",
              "      <th>F2</th>\n",
              "      <td>Banana</td>\n",
              "      <td>8</td>\n",
              "    </tr>\n",
              "    <tr>\n",
              "      <th>F3</th>\n",
              "      <td>Orange</td>\n",
              "      <td>12</td>\n",
              "    </tr>\n",
              "    <tr>\n",
              "      <th>F4</th>\n",
              "      <td>Kiwi</td>\n",
              "      <td>15</td>\n",
              "    </tr>\n",
              "    <tr>\n",
              "      <th>F5</th>\n",
              "      <td>Watermelon</td>\n",
              "      <td>11</td>\n",
              "    </tr>\n",
              "  </tbody>\n",
              "</table>\n",
              "</div>"
            ],
            "text/plain": [
              "                Food Ingredients  Prices/kg\n",
              "Categories Code                            \n",
              "Meats      M1            Chicken         20\n",
              "           M2               Pork         25\n",
              "           M3               Beef         20\n",
              "           M4               Lamb         30\n",
              "Seafoods   S1              Squid         20\n",
              "           S2              Prawn         35\n",
              "           S3               Crab         40\n",
              "           S4            Lobster         60\n",
              "Vegetables V1           Brocolli          9\n",
              "           V2             Carrot          5\n",
              "           V3             Tomato          8\n",
              "           V4            Lettuce          4\n",
              "           V5       Bitter Gourd          6\n",
              "Fruits     F1              Apple         10\n",
              "           F2             Banana          8\n",
              "           F3             Orange         12\n",
              "           F4               Kiwi         15\n",
              "           F5         Watermelon         11"
            ]
          },
          "metadata": {
            "tags": []
          },
          "execution_count": 2
        }
      ]
    },
    {
      "cell_type": "code",
      "metadata": {
        "colab": {
          "base_uri": "https://localhost:8080/"
        },
        "id": "WKs3mjfOg2dM",
        "outputId": "2c3491e6-f47e-4543-dada-4d7ae453ac3e"
      },
      "source": [
        "# 3. To add orders into cart: 2kg of Porks(M2), 1kg of Brocolli(V1), 3kg of Kiwi(F4)\n",
        "customer.add_orders(\"M2\", 2)  # + RM 25 * 2 = RM  50\n",
        "customer.add_orders(\"V1\", 1)  # + RM  9 * 1 = RM   9\n",
        "customer.add_orders(\"F4\", 3)  # + RM 15 * 3 = RM  45\n",
        "\n",
        "# 4. To get the list of orders in my cart\n",
        "print(customer.get_cart())"
      ],
      "execution_count": null,
      "outputs": [
        {
          "output_type": "stream",
          "text": [
            "Your Shopping Cart: {'M2': 2, 'V1': 1, 'F4': 3}\n"
          ],
          "name": "stdout"
        }
      ]
    },
    {
      "cell_type": "code",
      "metadata": {
        "colab": {
          "base_uri": "https://localhost:8080/"
        },
        "id": "UnOoxR-og2fr",
        "outputId": "7b72c13f-c579-4fd8-b899-fb7f77b6b686"
      },
      "source": [
        "# 5. To remove orders from cart: 3kg of Kiwi(F4)\n",
        "customer.remove_orders(\"F4\", 3)   # - RM 15 * 3 = RM  45\n",
        "\n",
        "# 6. To get the latest list of orders in my cart\n",
        "print(customer.get_cart())"
      ],
      "execution_count": null,
      "outputs": [
        {
          "output_type": "stream",
          "text": [
            "You may top up another RM41.00 to get 20% off and FREE delivery.\n",
            "Your Shopping Cart: {'M2': 2, 'V1': 1}\n"
          ],
          "name": "stdout"
        }
      ]
    },
    {
      "cell_type": "code",
      "metadata": {
        "colab": {
          "base_uri": "https://localhost:8080/"
        },
        "id": "jri6Fp0Mg2ia",
        "outputId": "83bfdf27-58d1-4ce4-d478-cc2c4bd99856"
      },
      "source": [
        "# 7. To enjoy the 20% offer & free delivery, top up to RM100\n",
        "customer.add_orders(\"S3\", 3)  # + RM 40 * 3 = RM 120\n",
        "\n",
        "# 8. To get the latest list of orders in my cart\n",
        "print(customer.get_cart())"
      ],
      "execution_count": null,
      "outputs": [
        {
          "output_type": "stream",
          "text": [
            "Your Shopping Cart: {'M2': 2, 'V1': 1, 'S3': 3}\n"
          ],
          "name": "stdout"
        }
      ]
    },
    {
      "cell_type": "code",
      "metadata": {
        "colab": {
          "base_uri": "https://localhost:8080/"
        },
        "id": "z3rux6jTg2lA",
        "outputId": "4ffca978-5685-4892-9107-7b3b4629da83"
      },
      "source": [
        "# 8. Done shopping! Ready to pay now!\n",
        "print(customer.get_TotalAmount())  # RM 179 * 0.80 = RM143.20"
      ],
      "execution_count": null,
      "outputs": [
        {
          "output_type": "stream",
          "text": [
            "Your Shopping Cart: {'M2': 2, 'V1': 1, 'S3': 3}\n",
            "Total Saved (20%) : RM   35.80\n",
            "Total Amount      : RM  143.20\n",
            "Please proceed to checkout your cart. Thank you for shopping with us!\n"
          ],
          "name": "stdout"
        }
      ]
    },
    {
      "cell_type": "markdown",
      "metadata": {
        "id": "GAOle1ZYo3k-"
      },
      "source": [
        "---\n",
        "### Second way: **Ask for user input**"
      ]
    },
    {
      "cell_type": "code",
      "metadata": {
        "colab": {
          "base_uri": "https://localhost:8080/",
          "height": 782
        },
        "id": "M0-1oZ95o30u",
        "outputId": "8eab9bef-6dfe-4407-89bd-6d943f617405"
      },
      "source": [
        "# 1st Breakdown: Ask for user name and create an instance of HappyFresh() Class\n",
        "name = input(\"Hi, what's your name? \").strip()\n",
        "customer = HappyFresh(name)\n",
        "customer.get_menu()"
      ],
      "execution_count": null,
      "outputs": [
        {
          "output_type": "stream",
          "text": [
            "Hi, what's your name?    Don\n",
            ".~~~~~~~~~~~~~~~~~~~~~~~~~~~~~~~~~~~~~~~~~~~~~~~~~~~~~~~~~~~~~~~~~~~~~~~~~~~~~~~~.\n",
            "| Good day Don, welcome to Happy Fresh store!                                    |\n",
            "| We have a wide variety of fresh offerings today.                               |\n",
            "| ** Special weeklong promotion extravaganza!!! **                               |\n",
            "|  ( Get 20% off your total order plus FREE delivery if you spend above RM100! ) |\n",
            "| Let's start shopping! =)                                                       |\n",
            ".~~~~~~~~~~~~~~~~~~~~~~~~~~~~~~~~~~~~~~~~~~~~~~~~~~~~~~~~~~~~~~~~~~~~~~~~~~~~~~~~.\n"
          ],
          "name": "stdout"
        },
        {
          "output_type": "execute_result",
          "data": {
            "text/html": [
              "<div>\n",
              "<style scoped>\n",
              "    .dataframe tbody tr th:only-of-type {\n",
              "        vertical-align: middle;\n",
              "    }\n",
              "\n",
              "    .dataframe tbody tr th {\n",
              "        vertical-align: top;\n",
              "    }\n",
              "\n",
              "    .dataframe thead th {\n",
              "        text-align: right;\n",
              "    }\n",
              "</style>\n",
              "<table border=\"1\" class=\"dataframe\">\n",
              "  <thead>\n",
              "    <tr style=\"text-align: right;\">\n",
              "      <th></th>\n",
              "      <th></th>\n",
              "      <th>Food Ingredients</th>\n",
              "      <th>Prices/kg</th>\n",
              "    </tr>\n",
              "    <tr>\n",
              "      <th>Categories</th>\n",
              "      <th>Code</th>\n",
              "      <th></th>\n",
              "      <th></th>\n",
              "    </tr>\n",
              "  </thead>\n",
              "  <tbody>\n",
              "    <tr>\n",
              "      <th rowspan=\"4\" valign=\"top\">Meats</th>\n",
              "      <th>M1</th>\n",
              "      <td>Chicken</td>\n",
              "      <td>20</td>\n",
              "    </tr>\n",
              "    <tr>\n",
              "      <th>M2</th>\n",
              "      <td>Pork</td>\n",
              "      <td>25</td>\n",
              "    </tr>\n",
              "    <tr>\n",
              "      <th>M3</th>\n",
              "      <td>Beef</td>\n",
              "      <td>20</td>\n",
              "    </tr>\n",
              "    <tr>\n",
              "      <th>M4</th>\n",
              "      <td>Lamb</td>\n",
              "      <td>30</td>\n",
              "    </tr>\n",
              "    <tr>\n",
              "      <th rowspan=\"4\" valign=\"top\">Seafoods</th>\n",
              "      <th>S1</th>\n",
              "      <td>Squid</td>\n",
              "      <td>20</td>\n",
              "    </tr>\n",
              "    <tr>\n",
              "      <th>S2</th>\n",
              "      <td>Prawn</td>\n",
              "      <td>35</td>\n",
              "    </tr>\n",
              "    <tr>\n",
              "      <th>S3</th>\n",
              "      <td>Crab</td>\n",
              "      <td>40</td>\n",
              "    </tr>\n",
              "    <tr>\n",
              "      <th>S4</th>\n",
              "      <td>Lobster</td>\n",
              "      <td>60</td>\n",
              "    </tr>\n",
              "    <tr>\n",
              "      <th rowspan=\"5\" valign=\"top\">Vegetables</th>\n",
              "      <th>V1</th>\n",
              "      <td>Brocolli</td>\n",
              "      <td>9</td>\n",
              "    </tr>\n",
              "    <tr>\n",
              "      <th>V2</th>\n",
              "      <td>Carrot</td>\n",
              "      <td>5</td>\n",
              "    </tr>\n",
              "    <tr>\n",
              "      <th>V3</th>\n",
              "      <td>Tomato</td>\n",
              "      <td>8</td>\n",
              "    </tr>\n",
              "    <tr>\n",
              "      <th>V4</th>\n",
              "      <td>Lettuce</td>\n",
              "      <td>4</td>\n",
              "    </tr>\n",
              "    <tr>\n",
              "      <th>V5</th>\n",
              "      <td>Bitter Gourd</td>\n",
              "      <td>6</td>\n",
              "    </tr>\n",
              "    <tr>\n",
              "      <th rowspan=\"5\" valign=\"top\">Fruits</th>\n",
              "      <th>F1</th>\n",
              "      <td>Apple</td>\n",
              "      <td>10</td>\n",
              "    </tr>\n",
              "    <tr>\n",
              "      <th>F2</th>\n",
              "      <td>Banana</td>\n",
              "      <td>8</td>\n",
              "    </tr>\n",
              "    <tr>\n",
              "      <th>F3</th>\n",
              "      <td>Orange</td>\n",
              "      <td>12</td>\n",
              "    </tr>\n",
              "    <tr>\n",
              "      <th>F4</th>\n",
              "      <td>Kiwi</td>\n",
              "      <td>15</td>\n",
              "    </tr>\n",
              "    <tr>\n",
              "      <th>F5</th>\n",
              "      <td>Watermelon</td>\n",
              "      <td>11</td>\n",
              "    </tr>\n",
              "  </tbody>\n",
              "</table>\n",
              "</div>"
            ],
            "text/plain": [
              "                Food Ingredients  Prices/kg\n",
              "Categories Code                            \n",
              "Meats      M1            Chicken         20\n",
              "           M2               Pork         25\n",
              "           M3               Beef         20\n",
              "           M4               Lamb         30\n",
              "Seafoods   S1              Squid         20\n",
              "           S2              Prawn         35\n",
              "           S3               Crab         40\n",
              "           S4            Lobster         60\n",
              "Vegetables V1           Brocolli          9\n",
              "           V2             Carrot          5\n",
              "           V3             Tomato          8\n",
              "           V4            Lettuce          4\n",
              "           V5       Bitter Gourd          6\n",
              "Fruits     F1              Apple         10\n",
              "           F2             Banana          8\n",
              "           F3             Orange         12\n",
              "           F4               Kiwi         15\n",
              "           F5         Watermelon         11"
            ]
          },
          "metadata": {
            "tags": []
          },
          "execution_count": 16
        }
      ]
    },
    {
      "cell_type": "code",
      "metadata": {
        "colab": {
          "base_uri": "https://localhost:8080/"
        },
        "id": "rEQxgWv5o4Aa",
        "outputId": "360e8e34-cd61-4097-b8c9-aabe528d51a0"
      },
      "source": [
        "# 2nd Breakdown: Ask user if they want to proceed to order something or quit.\n",
        "\n",
        "ques = input(\"\"\"Do you wish to place an order?\n",
        "Enter 'Yes' to proceed, or 'No' to quit. \"\"\").strip().upper()\n",
        "\n",
        "while True:\n",
        "    if ques.startswith(\"Y\"):\n",
        "        break\n",
        "    elif ques.startswith(\"N\"):\n",
        "        print(\"\\nThank you for visiting our store. Hope to see you again next time. Have a good day! :)\")\n",
        "        break\n",
        "    else:\n",
        "        ques = input(\"\"\"Sorry, please try again. Enter 'Yes' to proceed, or 'No' to quit. \"\"\").strip().upper()"
      ],
      "execution_count": null,
      "outputs": [
        {
          "output_type": "stream",
          "text": [
            "Do you wish to place an order?\n",
            "Enter 'Yes' to proceed, or 'No' to quit.   quit\n",
            "Sorry, please try again. Enter 'Yes' to proceed, or 'No' to quit. \n",
            "Sorry, please try again. Enter 'Yes' to proceed, or 'No' to quit.   n\n",
            "\n",
            "Thank you for visiting our store. Hope to see you again next time. Have a good day! :)\n"
          ],
          "name": "stdout"
        }
      ]
    },
    {
      "cell_type": "code",
      "metadata": {
        "colab": {
          "base_uri": "https://localhost:8080/"
        },
        "id": "WHcY-N-go4DU",
        "outputId": "554ae032-5e39-4ca2-b55b-9e1da0c69924"
      },
      "source": [
        "# 3rd Breakdown: Get user orders if they proceed to order, \n",
        "# - Use Error/ Exception Handling (Try-Except-Else-Final) to ensure the input follows the format we want\n",
        "\n",
        "OuterLoop = True\n",
        "while OuterLoop:\n",
        "    items = input(\"Please enter the product code as written in Menu and quantity. (Eg: 'M1, 2'): \")\n",
        "    \n",
        "    try:\n",
        "        items = items.strip().split(\",\")\n",
        "        items[0] = items[0].strip().upper()\n",
        "        items[-1] = int(items[-1])\n",
        "        if items[0] not in customer.foods_prices:\n",
        "            items = input(\"\"\"Sorry, please ensure to enter the correct product code as written on the menu! \n",
        "Please press 'enter' to try again. \"\"\")\n",
        "            continue\n",
        "        else:\n",
        "            customer.add_orders(items[0], items[-1])\n",
        "            print()\n",
        "            print(customer.get_cart())\n",
        "            break\n",
        "            \n",
        "    except:\n",
        "        items = input(\"\"\"\n",
        "Sorry, please ensure to follow the required format.\n",
        "(Eg: If you wish to buy 2 kg of chicken, please enter 'M1, 2')\n",
        "Please press 'enter' to try again. \"\"\")"
      ],
      "execution_count": null,
      "outputs": [
        {
          "output_type": "stream",
          "text": [
            "Please enter the product code as written in Menu and quantity. (Eg: 'M1, 2'):    n\n",
            "\n",
            "Sorry, please ensure to follow the required format.\n",
            "(Eg: If you wish to buy 2 kg of chicken, please enter 'M1, 2')\n",
            "Please press 'enter' to try again. \n",
            "Please enter the product code as written in Menu and quantity. (Eg: 'M1, 2'):   n1, 2\n",
            "Sorry, please ensure to enter the correct product code as written on the menu! \n",
            "Please press 'enter' to try again.  \n",
            "Please enter the product code as written in Menu and quantity. (Eg: 'M1, 2'):    m1, 2\n",
            "\n",
            "You may top up another RM60.00 to get 20% off and FREE delivery.\n",
            "Your Shopping Cart: {'M1': 2}\n"
          ],
          "name": "stdout"
        }
      ]
    },
    {
      "cell_type": "code",
      "metadata": {
        "colab": {
          "base_uri": "https://localhost:8080/"
        },
        "id": "oclDgyEipyzS",
        "outputId": "19d1a19e-e664-4a91-ea9d-5146ba509b5b"
      },
      "source": [
        "# 4th Breakdown: If user wants to add more items into cart/ remove items from cart/ proceed to cx out\n",
        "# - This code only works if the user enter the item to be removed in a correct format\n",
        "\n",
        "IntermediateLoop = True\n",
        "\n",
        "while IntermediateLoop:\n",
        "    q = input(\"\"\"\n",
        "Enter 'A' to add more items into your cart; \n",
        "Enter 'R' to remove items from your cart;\n",
        "Enter 'N' to checkout your cart. \"\"\").strip().upper()\n",
        "\n",
        "    if q.startswith(\"A\"):\n",
        "        break\n",
        "    elif q.startswith(\"R\"):\n",
        "        remove_item = input(\"Please enter the product code and quantity you wish to remove. (Eg: M1, 2) \").strip().split(\",\")\n",
        "        remove_item[0] = remove_item[0].strip().upper()\n",
        "        remove_item[-1] = int(remove_item[-1])\n",
        "        print()\n",
        "        customer.remove_orders(remove_item[0], remove_item[-1])\n",
        "        print(customer.get_cart())\n",
        "        continue\n",
        "    elif q.startswith(\"N\"):\n",
        "        print()\n",
        "        print(customer.get_TotalAmount())\n",
        "        break\n",
        "    else:\n",
        "        continue"
      ],
      "execution_count": null,
      "outputs": [
        {
          "output_type": "stream",
          "text": [
            "\n",
            "Enter 'A' to add more items into your cart; \n",
            "Enter 'R' to remove items from your cart;\n",
            "Enter 'N' to checkout your cart.    delete\n",
            "\n",
            "Enter 'A' to add more items into your cart; \n",
            "Enter 'R' to remove items from your cart;\n",
            "Enter 'N' to checkout your cart.    remove\n",
            "Please enter the product code and quantity you wish to remove. (Eg: M1, 2)   m1,2\n",
            "\n",
            "You may top up another RM100.00 to get 20% off and FREE delivery.\n",
            "Your Shopping Cart: {}\n",
            "\n",
            "Enter 'A' to add more items into your cart; \n",
            "Enter 'R' to remove items from your cart;\n",
            "Enter 'N' to checkout your cart.  n\n",
            "\n",
            "Your shopping cart is empty. Thank you for browsing our store. Hope to see you again next time. Have a good day!\n"
          ],
          "name": "stdout"
        }
      ]
    },
    {
      "cell_type": "code",
      "metadata": {
        "colab": {
          "base_uri": "https://localhost:8080/"
        },
        "id": "7_UkNqsdlZZl",
        "outputId": "5e765c49-312e-4583-f25b-3e6cf4e033fa"
      },
      "source": [
        "# Before running code below, let me try adding some items into cart first, otherwise nothing in cart to be removed\n",
        "customer.add_orders(\"V2\", 3)\n",
        "customer.add_orders(\"F4\", 1)\n",
        "customer.add_orders(\"S2\", 2)\n",
        "\n",
        "print(customer.get_cart())"
      ],
      "execution_count": null,
      "outputs": [
        {
          "output_type": "stream",
          "text": [
            "Your Shopping Cart: {'V2': 3, 'F4': 1, 'S2': 2}\n"
          ],
          "name": "stdout"
        }
      ]
    },
    {
      "cell_type": "code",
      "metadata": {
        "colab": {
          "base_uri": "https://localhost:8080/"
        },
        "id": "SK5QSGxCo4Iz",
        "outputId": "f8b34a66-7828-40fd-e646-2f48e741b686"
      },
      "source": [
        "# To improve on 4th Breakdown: \n",
        "# - When user tries to add items into cart, the code will jump back to outer loops, so no problem to keep on adding item into cart\n",
        "# - But when user tries to remove items from cart, if they doesn't type the correct format we want,\n",
        "#   the code will back to the outer loop w/o removing the item\n",
        "# - So have to use Error/ Exception Handling (Try-Except-Else-Final) inside the inner loop as well\n",
        "\n",
        "IntermediateLoop = True\n",
        "\n",
        "while IntermediateLoop:\n",
        "    q = input(\"\"\"\n",
        "Enter 'A' to add more items into your cart; \n",
        "Enter 'R' to remove items from your cart;\n",
        "Enter 'N' to checkout your cart. \"\"\").strip().upper()\n",
        "\n",
        "    if q.startswith(\"A\"):\n",
        "        break\n",
        "        \n",
        "    elif q.startswith(\"R\"):\n",
        "        while True:\n",
        "            remove_item = input(\"Please enter the product code and quantity you wish to remove. (Eg: M1, 2) \").strip().split(\",\")\n",
        "            try:\n",
        "                remove_item[0] = remove_item[0].strip().upper()\n",
        "                remove_item[-1] = int(remove_item[-1])\n",
        "                if (remove_item[0] in customer.foods_prices) and (remove_item[0] not in customer.cart):\n",
        "                    remove_item = input(\"\"\"Sorry, you may only remove the item in you cart! \n",
        "Please press 'enter' to try again. \"\"\")\n",
        "                    continue\n",
        "                else:\n",
        "                    customer.remove_orders(remove_item[0], remove_item[-1])\n",
        "                    print(customer.get_cart())\n",
        "                    break\n",
        "            except:\n",
        "                remove_item = input(\"\"\"\n",
        "Sorry, please ensure to follow the required format.\n",
        "(Eg: If you wish to remove 2 kg of chicken, please enter 'M1, 2')\n",
        "Please press 'enter' to try again. \"\"\")        \n",
        "        \n",
        "    elif q.startswith(\"N\"):\n",
        "        print()\n",
        "        print(customer.get_TotalAmount())\n",
        "        break\n",
        "    \n",
        "    else:\n",
        "        continue"
      ],
      "execution_count": null,
      "outputs": [
        {
          "output_type": "stream",
          "text": [
            "\n",
            "Enter 'A' to add more items into your cart; \n",
            "Enter 'R' to remove items from your cart;\n",
            "Enter 'N' to checkout your cart.  r\n",
            "Please enter the product code and quantity you wish to remove. (Eg: M1, 2) m1\n",
            "\n",
            "Sorry, please ensure to follow the required format.\n",
            "(Eg: If you wish to remove 2 kg of chicken, please enter 'M1, 2')\n",
            "Please press 'enter' to try again. \n",
            "Please enter the product code and quantity you wish to remove. (Eg: M1, 2) m1,2\n",
            "Sorry, you may only remove the item in you cart! \n",
            "Please press 'enter' to try again. \n",
            "Please enter the product code and quantity you wish to remove. (Eg: M1, 2) v2,3\n",
            "You may top up another RM5.00 to get 20% off and FREE delivery.\n",
            "Your Shopping Cart: {'F4': 1, 'S2': 2}\n",
            "\n",
            "Enter 'A' to add more items into your cart; \n",
            "Enter 'R' to remove items from your cart;\n",
            "Enter 'N' to checkout your cart. n\n",
            "\n",
            "Delivery Fee : RM 10.00\n",
            "Total Amount : RM 105.00\n",
            "Please proceed to checkout your cart. Thank you for shopping with us!\n"
          ],
          "name": "stdout"
        }
      ]
    },
    {
      "cell_type": "markdown",
      "metadata": {
        "id": "G_R_jqobrFvM"
      },
      "source": [
        "#### **COMBINATION OF 3rd + 4th breakdown**"
      ]
    },
    {
      "cell_type": "code",
      "metadata": {
        "id": "2PIrGJbJB7cS",
        "colab": {
          "base_uri": "https://localhost:8080/"
        },
        "outputId": "1345ec89-98e6-4b33-a29e-c856b6867cf8"
      },
      "source": [
        "# COMBINATION OF 3rd + 4th breakdown\n",
        "\n",
        "OuterLoop = True\n",
        "IntermediateLoop = True\n",
        "\n",
        "while OuterLoop:\n",
        "    items = input(\"Please enter the product code as written in Menu and quantity. (Eg: 'M1, 2'): \")\n",
        "    \n",
        "    try:\n",
        "        items = items.strip().split(\",\")\n",
        "        items[0] = items[0].strip().upper()\n",
        "        items[-1] = int(items[-1])\n",
        "        if items[0] not in customer.foods_prices:\n",
        "            items = input(\"\"\"Sorry, please ensure to enter the correct product code as written on the menu! \n",
        "Please press 'enter' to try again. \"\"\")\n",
        "            continue\n",
        "            \n",
        "        else:\n",
        "            customer.add_orders(items[0], items[-1])\n",
        "            print()\n",
        "            print(customer.get_cart())\n",
        "\n",
        "            \n",
        "            while IntermediateLoop:\n",
        "                q = input(\"\"\"\n",
        "Enter 'A' to add more items into your cart; \n",
        "Enter 'R' to remove items from your cart;\n",
        "Enter 'N' to checkout your cart. \"\"\").strip().upper()\n",
        "\n",
        "                if q.startswith(\"A\"):\n",
        "                    break\n",
        "        \n",
        "                elif q.startswith(\"R\"):\n",
        "                    while True:\n",
        "                        remove_item = input(\"Please enter the product code and quantity you wish to remove. (Eg: M1, 2) \").strip().split(\",\")\n",
        "                        try:\n",
        "                            remove_item[0] = remove_item[0].strip().upper()\n",
        "                            remove_item[-1] = int(remove_item[-1])\n",
        "                            if (remove_item[0] in customer.foods_prices) and (remove_item[0] not in customer.cart):\n",
        "                                remove_item = input(\"\"\"Sorry, you may only remove the item in you cart! \n",
        "    Please press 'enter' to try again. \"\"\")\n",
        "                                # print(customer.get_cart())\n",
        "                                continue\n",
        "                            else:\n",
        "                                customer.remove_orders(remove_item[0], remove_item[-1])\n",
        "                                print(customer.get_cart())\n",
        "                                break\n",
        "                        except:\n",
        "                            remove_item = input(\"\"\"\n",
        "Sorry, please ensure to follow the required format.\n",
        "(Eg: If you wish to remove 2 kg of chicken, please enter 'M1, 2')\n",
        "Please press 'enter' to try again. \"\"\")        \n",
        "        \n",
        "                elif q.startswith(\"N\"):\n",
        "                    print()\n",
        "                    print(customer.get_TotalAmount())\n",
        "                    OuterLoop = False\n",
        "                    break\n",
        "                    \n",
        "                else:\n",
        "                    continue\n",
        "    except:\n",
        "        items = input(\"\"\"\n",
        "Sorry, please ensure to follow the required format.\n",
        "(Eg: If you wish to buy 2 kg of chicken, please enter 'M1, 2')\n",
        "Please press 'enter' to try again. \"\"\")"
      ],
      "execution_count": null,
      "outputs": [
        {
          "output_type": "stream",
          "text": [
            "Please enter the product code as written in Menu and quantity. (Eg: 'M1, 2'):  m\n",
            "\n",
            "Sorry, please ensure to follow the required format.\n",
            "(Eg: If you wish to buy 2 kg of chicken, please enter 'M1, 2')\n",
            "Please press 'enter' to try again. \n",
            "Please enter the product code as written in Menu and quantity. (Eg: 'M1, 2'): k2,3\n",
            "Sorry, please ensure to enter the correct product code as written on the menu! \n",
            "Please press 'enter' to try again. \n",
            "Please enter the product code as written in Menu and quantity. (Eg: 'M1, 2'): m2,2\n",
            "\n",
            "Your Shopping Cart: {'V2': 3, 'S2': 2, 'M2': 2}\n",
            "\n",
            "Enter 'A' to add more items into your cart; \n",
            "Enter 'R' to remove items from your cart;\n",
            "Enter 'N' to checkout your cart. a\n",
            "Please enter the product code as written in Menu and quantity. (Eg: 'M1, 2'): s1,2\n",
            "\n",
            "Your Shopping Cart: {'V2': 3, 'S2': 2, 'M2': 2, 'S1': 2}\n",
            "\n",
            "Enter 'A' to add more items into your cart; \n",
            "Enter 'R' to remove items from your cart;\n",
            "Enter 'N' to checkout your cart. r\n",
            "Please enter the product code and quantity you wish to remove. (Eg: M1, 2) v2,3\n",
            "Your Shopping Cart: {'S2': 2, 'M2': 2, 'S1': 2}\n",
            "\n",
            "Enter 'A' to add more items into your cart; \n",
            "Enter 'R' to remove items from your cart;\n",
            "Enter 'N' to checkout your cart. b\n",
            "\n",
            "Enter 'A' to add more items into your cart; \n",
            "Enter 'R' to remove items from your cart;\n",
            "Enter 'N' to checkout your cart. n\n",
            "\n",
            "Your Shopping Cart: {'S2': 2, 'M2': 2, 'S1': 2}\n",
            "Total Saved (20%) : RM   36.00\n",
            "Total Amount      : RM  144.00\n",
            "Please proceed to checkout your cart. Thank you for shopping with us!\n"
          ],
          "name": "stdout"
        }
      ]
    },
    {
      "cell_type": "markdown",
      "metadata": {
        "id": "lb5YGpbzrXcw"
      },
      "source": [
        "#### **COMBINATION OF 1st + 2nd + 3rd + 4th breakdown**"
      ]
    },
    {
      "cell_type": "code",
      "metadata": {
        "colab": {
          "base_uri": "https://localhost:8080/"
        },
        "id": "w8QpVaYgrjtI",
        "outputId": "e897fcd5-81b7-4a89-9521-0312f7b96715"
      },
      "source": [
        "# COMBINATION OF 1st + 2nd + 3rd + 4th breakdown\n",
        "# Example of proceeding to add orders\n",
        "\n",
        "name = input(\"Hi, what's your name? \").strip()\n",
        "customer = HappyFresh(name)\n",
        "print(customer.get_menu())\n",
        "\n",
        "\n",
        "ques = input(\"\"\"Do you wish to place an order?\n",
        "Enter 'Yes' to proceed, or 'No' to quit. \"\"\").strip().upper()\n",
        "\n",
        "\n",
        "FirstLoop = True\n",
        "\n",
        "while FirstLoop:\n",
        "    if ques.startswith(\"Y\"):\n",
        "        \n",
        "        \n",
        "        OuterLoop = True\n",
        "        IntermediateLoop = True\n",
        "\n",
        "        while OuterLoop:\n",
        "            items = input(\"Please enter the product code as written in Menu and quantity. (Eg: 'M1, 2'): \")\n",
        "    \n",
        "            try:\n",
        "                items = items.strip().split(\",\")\n",
        "                items[0] = items[0].strip().upper()\n",
        "                items[-1] = int(items[-1])\n",
        "                if items[0] not in customer.foods_prices:\n",
        "                    items = input(\"\"\"Sorry, please ensure to enter the correct product code as written on the menu! \n",
        "Please press 'enter' to try again. \"\"\")\n",
        "                    continue\n",
        "                else:\n",
        "                    customer.add_orders(items[0], items[-1])\n",
        "                    print()\n",
        "                    print(customer.get_cart())\n",
        "\n",
        "            \n",
        "                    while IntermediateLoop:\n",
        "                        q = input(\"\"\"\n",
        "Enter 'A' to add more items into your cart; \n",
        "Enter 'R' to remove items from your cart;\n",
        "Enter 'N' to checkout your cart. \"\"\").strip().upper()\n",
        "\n",
        "                        if q.startswith(\"A\"):\n",
        "                            break\n",
        "                        elif q.startswith(\"R\"):\n",
        "                            while True:\n",
        "                                remove_item = input(\"Please enter the product code and quantity you wish to remove. (Eg: M1, 2) \").strip().split(\",\")\n",
        "                                try:\n",
        "                                    remove_item[0] = remove_item[0].strip().upper()\n",
        "                                    remove_item[-1] = int(remove_item[-1])\n",
        "                                    if (remove_item[0] in customer.foods_prices) and (remove_item[0] not in customer.cart):\n",
        "                                        remove_item = input(\"\"\"Sorry, you may only remove the item in you cart! \n",
        "Please press 'enter' to try again. \"\"\")\n",
        "                                        # print(customer.get_cart())\n",
        "                                        continue\n",
        "                                    else:\n",
        "                                        customer.remove_orders(remove_item[0], remove_item[-1])\n",
        "                                        print(customer.get_cart())\n",
        "                                        break\n",
        "                                except:\n",
        "                                    remove_item = input(\"\"\"\n",
        "Sorry, please ensure to follow the required format.\n",
        "(Eg: If you wish to remove 2 kg of chicken, please enter 'M1, 2')\n",
        "Please press 'enter' to try again. \"\"\")        \n",
        "                        elif q.startswith(\"N\"):\n",
        "                            print()\n",
        "                            print(customer.get_TotalAmount())\n",
        "                            OuterLoop = False\n",
        "                            IntermediateLoop = False\n",
        "                            FirstLoop = False\n",
        "                            break\n",
        "                            \n",
        "                        else:\n",
        "                            continue\n",
        "    \n",
        "            except:\n",
        "                items = input(\"\"\"\n",
        "Sorry, please ensure to follow the required format.\n",
        "(Eg: If you wish to buy 2 kg of chicken, please enter 'M1, 2')\n",
        "Please press 'enter' to try again. \"\"\")\n",
        "        \n",
        "        \n",
        "        \n",
        "    elif ques.startswith(\"N\"):\n",
        "        print(\"\\nThank you for visiting our store. Hope to see you again next time. Have a good day! :)\")\n",
        "        break\n",
        "    \n",
        "    else:\n",
        "        ques = input(\"\"\"Sorry, please try again. Enter 'Yes' to proceed, or 'No' to quit. \"\"\").strip().upper()"
      ],
      "execution_count": null,
      "outputs": [
        {
          "output_type": "stream",
          "text": [
            "Hi, what's your name?     Don\n",
            ".~~~~~~~~~~~~~~~~~~~~~~~~~~~~~~~~~~~~~~~~~~~~~~~~~~~~~~~~~~~~~~~~~~~~~~~~~~~~~~~~.\n",
            "| Good day Don, welcome to Happy Fresh store!                                    |\n",
            "| We have a wide variety of fresh offerings today.                               |\n",
            "| ** Special weeklong promotion extravaganza!!! **                               |\n",
            "|  ( Get 20% off your total order plus FREE delivery if you spend above RM100! ) |\n",
            "| Let's start shopping! =)                                                       |\n",
            ".~~~~~~~~~~~~~~~~~~~~~~~~~~~~~~~~~~~~~~~~~~~~~~~~~~~~~~~~~~~~~~~~~~~~~~~~~~~~~~~~.\n",
            "                Food Ingredients  Prices/kg\n",
            "Categories Code                            \n",
            "Meats      M1            Chicken         20\n",
            "           M2               Pork         25\n",
            "           M3               Beef         20\n",
            "           M4               Lamb         30\n",
            "Seafoods   S1              Squid         20\n",
            "           S2              Prawn         35\n",
            "           S3               Crab         40\n",
            "           S4            Lobster         60\n",
            "Vegetables V1           Brocolli          9\n",
            "           V2             Carrot          5\n",
            "           V3             Tomato          8\n",
            "           V4            Lettuce          4\n",
            "           V5       Bitter Gourd          6\n",
            "Fruits     F1              Apple         10\n",
            "           F2             Banana          8\n",
            "           F3             Orange         12\n",
            "           F4               Kiwi         15\n",
            "           F5         Watermelon         11\n",
            "Do you wish to place an order?\n",
            "Enter 'Yes' to proceed, or 'No' to quit.  tes\n",
            "Sorry, please try again. Enter 'Yes' to proceed, or 'No' to quit. y\n",
            "Please enter the product code as written in Menu and quantity. (Eg: 'M1, 2'): n1\n",
            "\n",
            "Sorry, please ensure to follow the required format.\n",
            "(Eg: If you wish to buy 2 kg of chicken, please enter 'M1, 2')\n",
            "Please press 'enter' to try again. \n",
            "Please enter the product code as written in Menu and quantity. (Eg: 'M1, 2'): n1,2\n",
            "Sorry, please ensure to enter the correct product code as written on the menu! \n",
            "Please press 'enter' to try again. \n",
            "Please enter the product code as written in Menu and quantity. (Eg: 'M1, 2'): m1,2\n",
            "\n",
            "You may top up another RM60.00 to get 20% off and FREE delivery.\n",
            "Your Shopping Cart: {'M1': 2}\n",
            "\n",
            "Enter 'A' to add more items into your cart; \n",
            "Enter 'R' to remove items from your cart;\n",
            "Enter 'N' to checkout your cart. a\n",
            "Please enter the product code as written in Menu and quantity. (Eg: 'M1, 2'): v3,2\n",
            "\n",
            "You may top up another RM44.00 to get 20% off and FREE delivery.\n",
            "Your Shopping Cart: {'M1': 2, 'V3': 2}\n",
            "\n",
            "Enter 'A' to add more items into your cart; \n",
            "Enter 'R' to remove items from your cart;\n",
            "Enter 'N' to checkout your cart. a\n",
            "Please enter the product code as written in Menu and quantity. (Eg: 'M1, 2'): s3,2\n",
            "\n",
            "Your Shopping Cart: {'M1': 2, 'V3': 2, 'S3': 2}\n",
            "\n",
            "Enter 'A' to add more items into your cart; \n",
            "Enter 'R' to remove items from your cart;\n",
            "Enter 'N' to checkout your cart. a\n",
            "Please enter the product code as written in Menu and quantity. (Eg: 'M1, 2'): f4,1\n",
            "\n",
            "Your Shopping Cart: {'M1': 2, 'V3': 2, 'S3': 2, 'F4': 1}\n",
            "\n",
            "Enter 'A' to add more items into your cart; \n",
            "Enter 'R' to remove items from your cart;\n",
            "Enter 'N' to checkout your cart. r\n",
            "Please enter the product code and quantity you wish to remove. (Eg: M1, 2) n1,2\n",
            "\n",
            "Sorry, please ensure to follow the required format.\n",
            "(Eg: If you wish to remove 2 kg of chicken, please enter 'M1, 2')\n",
            "Please press 'enter' to try again. \n",
            "Please enter the product code and quantity you wish to remove. (Eg: M1, 2) m1,2\n",
            "Your Shopping Cart: {'V3': 2, 'S3': 2, 'F4': 1}\n",
            "\n",
            "Enter 'A' to add more items into your cart; \n",
            "Enter 'R' to remove items from your cart;\n",
            "Enter 'N' to checkout your cart. n\n",
            "\n",
            "Your Shopping Cart: {'V3': 2, 'S3': 2, 'F4': 1}\n",
            "Total Saved (20%) : RM   22.20\n",
            "Total Amount      : RM   88.80\n",
            "Please proceed to checkout your cart. Thank you for shopping with us!\n"
          ],
          "name": "stdout"
        }
      ]
    },
    {
      "cell_type": "code",
      "metadata": {
        "colab": {
          "base_uri": "https://localhost:8080/"
        },
        "id": "-g-1WYgOrUGG",
        "outputId": "1854e316-d96f-4401-f3b3-7590de459cd3"
      },
      "source": [
        "# COMBINATION OF 1st + 2nd + 3rd + 4th breakdown\n",
        "# Example of not proceeding to shop\n",
        "\n",
        "name = input(\"Hi, what's your name? \").strip()\n",
        "customer = HappyFresh(name)\n",
        "print(customer.get_menu())\n",
        "\n",
        "\n",
        "ques = input(\"\"\"Do you wish to place an order?\n",
        "Enter 'Yes' to proceed, or 'No' to quit. \"\"\").strip().upper()\n",
        "\n",
        "\n",
        "FirstLoop = True\n",
        "\n",
        "while FirstLoop:\n",
        "    if ques.startswith(\"Y\"):\n",
        "        \n",
        "        \n",
        "        OuterLoop = True\n",
        "        IntermediateLoop = True\n",
        "\n",
        "        while OuterLoop:\n",
        "            items = input(\"Please enter the product code as written in Menu and quantity. (Eg: 'M1, 2'): \")\n",
        "    \n",
        "            try:\n",
        "                items = items.strip().split(\",\")\n",
        "                items[0] = items[0].strip().upper()\n",
        "                items[-1] = int(items[-1])\n",
        "                if items[0] not in customer.foods_prices:\n",
        "                    items = input(\"\"\"Sorry, please ensure to enter the correct product code as written on the menu! \n",
        "Please press 'enter' to try again. \"\"\")\n",
        "                    continue\n",
        "                else:\n",
        "                    customer.add_orders(items[0], items[-1])\n",
        "                    print()\n",
        "                    print(customer.get_cart())\n",
        "\n",
        "            \n",
        "                    while IntermediateLoop:\n",
        "                        q = input(\"\"\"\n",
        "Enter 'A' to add more items into your cart; \n",
        "Enter 'R' to remove items from your cart;\n",
        "Enter 'N' to checkout your cart. \"\"\").strip().upper()\n",
        "\n",
        "                        if q.startswith(\"A\"):\n",
        "                            break\n",
        "                        elif q.startswith(\"R\"):\n",
        "                            while True:\n",
        "                                remove_item = input(\"Please enter the product code and quantity you wish to remove. (Eg: M1, 2) \").strip().split(\",\")\n",
        "                                try:\n",
        "                                    remove_item[0] = remove_item[0].strip().upper()\n",
        "                                    remove_item[-1] = int(remove_item[-1])\n",
        "                                    if (remove_item[0] in customer.foods_prices) and (remove_item[0] not in customer.cart):\n",
        "                                        remove_item = input(\"\"\"Sorry, you may only remove the item in you cart! \n",
        "Please press 'enter' to try again. \"\"\")\n",
        "                                        continue\n",
        "                                    else:\n",
        "                                        customer.remove_orders(remove_item[0], remove_item[-1])\n",
        "                                        print(customer.get_cart())\n",
        "                                        break\n",
        "                                except:\n",
        "                                    remove_item = input(\"\"\"\n",
        "Sorry, please ensure to follow the required format.\n",
        "(Eg: If you wish to remove 2 kg of chicken, please enter 'M1, 2')\n",
        "Please press 'enter' to try again. \"\"\")        \n",
        "                        elif q.startswith(\"N\"):\n",
        "                            print()\n",
        "                            print(customer.get_TotalAmount())\n",
        "                            OuterLoop = False\n",
        "                            IntermediateLoop = False\n",
        "                            FirstLoop = False\n",
        "                            break\n",
        "                            \n",
        "                        else:\n",
        "                            continue\n",
        "    \n",
        "            except:\n",
        "                items = input(\"\"\"\n",
        "Sorry, please ensure to follow the required format.\n",
        "(Eg: If you wish to buy 2 kg of chicken, please enter 'M1, 2')\n",
        "Please press 'enter' to try again. \"\"\")\n",
        "        \n",
        "        \n",
        "        \n",
        "    elif ques.startswith(\"N\"):\n",
        "        print(\"\\nThank you for visiting our store. Hope to see you again next time. Have a good day! :)\")\n",
        "        break\n",
        "    \n",
        "    else:\n",
        "        ques = input(\"\"\"Sorry, please try again. Enter 'Yes' to proceed, or 'No' to quit. \"\"\").strip().upper()\n"
      ],
      "execution_count": null,
      "outputs": [
        {
          "output_type": "stream",
          "text": [
            "Hi, what's your name?  Don\n",
            ".~~~~~~~~~~~~~~~~~~~~~~~~~~~~~~~~~~~~~~~~~~~~~~~~~~~~~~~~~~~~~~~~~~~~~~~~~~~~~~~~.\n",
            "| Good day Don, welcome to Happy Fresh store!                                    |\n",
            "| We have a wide variety of fresh offerings today.                               |\n",
            "| ** Special weeklong promotion extravaganza!!! **                               |\n",
            "|  ( Get 20% off your total order plus FREE delivery if you spend above RM100! ) |\n",
            "| Let's start shopping! =)                                                       |\n",
            ".~~~~~~~~~~~~~~~~~~~~~~~~~~~~~~~~~~~~~~~~~~~~~~~~~~~~~~~~~~~~~~~~~~~~~~~~~~~~~~~~.\n",
            "                Food Ingredients  Prices/kg\n",
            "Categories Code                            \n",
            "Meats      M1            Chicken         20\n",
            "           M2               Pork         25\n",
            "           M3               Beef         20\n",
            "           M4               Lamb         30\n",
            "Seafoods   S1              Squid         20\n",
            "           S2              Prawn         35\n",
            "           S3               Crab         40\n",
            "           S4            Lobster         60\n",
            "Vegetables V1           Brocolli          9\n",
            "           V2             Carrot          5\n",
            "           V3             Tomato          8\n",
            "           V4            Lettuce          4\n",
            "           V5       Bitter Gourd          6\n",
            "Fruits     F1              Apple         10\n",
            "           F2             Banana          8\n",
            "           F3             Orange         12\n",
            "           F4               Kiwi         15\n",
            "           F5         Watermelon         11\n",
            "Do you wish to place an order?\n",
            "Enter 'Yes' to proceed, or 'No' to quit.   m\n",
            "Sorry, please try again. Enter 'Yes' to proceed, or 'No' to quit.  n\n",
            "\n",
            "Thank you for visiting our store. Hope to see you again next time. Have a good day! :)\n"
          ],
          "name": "stdout"
        }
      ]
    },
    {
      "cell_type": "markdown",
      "metadata": {
        "id": "gaWULhyNqAQl"
      },
      "source": [
        "---\n",
        "## Part 2: **Inheritance**\n",
        "\n",
        "Inheritance is a way to **form new classes** using **classes** that have **already been defined.** The **newly formed classes** are called **derived classes**, the classes that we **derive from** are called **base classes.** Important **benefits** of inheritance are **code reuse** and **reduction of complexity** of a program. The **derived classes (descendants) override** or **extend the functionality** of **base classes (ancestors).**\n",
        "\n",
        "Let's see an example by incorporating the previous work on the HappyFresh class:"
      ]
    },
    {
      "cell_type": "code",
      "metadata": {
        "id": "GqjzObLcqXdh"
      },
      "source": [
        "# A menu for Groceries\n",
        "# DEFAULT : Create a dictionary with Product Code as KEY, Price per kg as VALUES\n",
        "\n",
        "# codes = { \"chicken\": \"M1\",   \"pork\": \"M2\",   \"beef\": \"M3\",    \"lamb\": \"M4\",\n",
        "#             \"squid\": \"S1\",  \"prawn\": \"S2\",   \"crab\": \"S3\", \"lobster\": \"S4\",\n",
        "#          \"brocolli\": \"V1\", \"carrot\": \"V2\", \"tomato\": \"V3\", \"lettuce\": \"V4\", \"bitter gourd\": \"V5\",\n",
        "#             \"apple\": \"F1\", \"banana\": \"F2\", \"orange\": \"F3\",    \"kiwi\": \"F4\", \"watermelon\": \"F5\",}\n",
        "\n",
        "# foods_prices = {\"M1\": 20, \"M2\": 25, \"M3\": 20, \"M4\": 30, \n",
        "#                 \"S1\": 20, \"S2\": 35, \"S3\": 40, \"S4\": 60,\n",
        "#                 \"V1\":  9, \"V2\":  5, \"V3\":  8, \"V4\":  4, \"V5\":  6,\n",
        "#                 \"F1\": 10, \"F2\":  8, \"F3\": 12, \"F4\": 15, \"F5\": 11}"
      ],
      "execution_count": null,
      "outputs": []
    },
    {
      "cell_type": "code",
      "metadata": {
        "colab": {
          "base_uri": "https://localhost:8080/",
          "height": 644
        },
        "id": "PjVQFAS7qXqR",
        "outputId": "6c8c66e8-766d-4c40-c210-ba4d972247ff"
      },
      "source": [
        "# Import pandas to create a data frame\n",
        "import pandas as pd\n",
        "\n",
        "my_matrix = [[\"Chicken\", 20],  [\"Pork\", 25],   [\"Beef\", 20], [\"Lamb\", 30],\n",
        "               [\"Squid\", 20], [\"Prawn\", 35],   [\"Crab\", 40], [\"Lobster\", 60],\n",
        "             [\"Brocolli\", 9], [\"Carrot\", 5],  [\"Tomato\", 8], [\"Lettuce\", 4], [\"Bitter Gourd\", 6], \n",
        "               [\"Apple\", 10], [\"Banana\", 8], [\"Orange\", 12], [\"Kiwi\", 15], [\"Watermelon\", 11]]\n",
        "\n",
        "outside = \"{0},{0},{0},{0},{1},{1},{1},{1},{2},{2},{2},{2},{2},{3},{3},{3},{3},{3}\"\\\n",
        "          .format(\"Meats\", \"Seafoods\", \"Vegetables\", \"Fruits\").split(\",\")\n",
        "inside  = ['M1', 'M2', 'M3', 'M4', \n",
        "           'S1', 'S2', 'S3', 'S4',\n",
        "           'V1', 'V2', 'V3', 'V4', 'V5', \n",
        "           'F1', 'F2', 'F3', 'F4', 'F5']\n",
        "hier_index = list(zip(outside,inside))             # To form a list of tuples\n",
        "hier_index = pd.MultiIndex.from_tuples(hier_index) # To form a multiindex from multiple tuples\n",
        "\n",
        "# To form a data frame by using pandas library\n",
        "# Name the index names\n",
        "FoodIngredientsMenu = pd.DataFrame(data = my_matrix, index = hier_index , columns = ['Food Ingredients', 'Prices/kg'])\n",
        "FoodIngredientsMenu.index.names = [\"Categories\", \"Code\"]\n",
        "FoodIngredientsMenu"
      ],
      "execution_count": null,
      "outputs": [
        {
          "output_type": "execute_result",
          "data": {
            "text/html": [
              "<div>\n",
              "<style scoped>\n",
              "    .dataframe tbody tr th:only-of-type {\n",
              "        vertical-align: middle;\n",
              "    }\n",
              "\n",
              "    .dataframe tbody tr th {\n",
              "        vertical-align: top;\n",
              "    }\n",
              "\n",
              "    .dataframe thead th {\n",
              "        text-align: right;\n",
              "    }\n",
              "</style>\n",
              "<table border=\"1\" class=\"dataframe\">\n",
              "  <thead>\n",
              "    <tr style=\"text-align: right;\">\n",
              "      <th></th>\n",
              "      <th></th>\n",
              "      <th>Food Ingredients</th>\n",
              "      <th>Prices/kg</th>\n",
              "    </tr>\n",
              "    <tr>\n",
              "      <th>Categories</th>\n",
              "      <th>Code</th>\n",
              "      <th></th>\n",
              "      <th></th>\n",
              "    </tr>\n",
              "  </thead>\n",
              "  <tbody>\n",
              "    <tr>\n",
              "      <th rowspan=\"4\" valign=\"top\">Meats</th>\n",
              "      <th>M1</th>\n",
              "      <td>Chicken</td>\n",
              "      <td>20</td>\n",
              "    </tr>\n",
              "    <tr>\n",
              "      <th>M2</th>\n",
              "      <td>Pork</td>\n",
              "      <td>25</td>\n",
              "    </tr>\n",
              "    <tr>\n",
              "      <th>M3</th>\n",
              "      <td>Beef</td>\n",
              "      <td>20</td>\n",
              "    </tr>\n",
              "    <tr>\n",
              "      <th>M4</th>\n",
              "      <td>Lamb</td>\n",
              "      <td>30</td>\n",
              "    </tr>\n",
              "    <tr>\n",
              "      <th rowspan=\"4\" valign=\"top\">Seafoods</th>\n",
              "      <th>S1</th>\n",
              "      <td>Squid</td>\n",
              "      <td>20</td>\n",
              "    </tr>\n",
              "    <tr>\n",
              "      <th>S2</th>\n",
              "      <td>Prawn</td>\n",
              "      <td>35</td>\n",
              "    </tr>\n",
              "    <tr>\n",
              "      <th>S3</th>\n",
              "      <td>Crab</td>\n",
              "      <td>40</td>\n",
              "    </tr>\n",
              "    <tr>\n",
              "      <th>S4</th>\n",
              "      <td>Lobster</td>\n",
              "      <td>60</td>\n",
              "    </tr>\n",
              "    <tr>\n",
              "      <th rowspan=\"5\" valign=\"top\">Vegetables</th>\n",
              "      <th>V1</th>\n",
              "      <td>Brocolli</td>\n",
              "      <td>9</td>\n",
              "    </tr>\n",
              "    <tr>\n",
              "      <th>V2</th>\n",
              "      <td>Carrot</td>\n",
              "      <td>5</td>\n",
              "    </tr>\n",
              "    <tr>\n",
              "      <th>V3</th>\n",
              "      <td>Tomato</td>\n",
              "      <td>8</td>\n",
              "    </tr>\n",
              "    <tr>\n",
              "      <th>V4</th>\n",
              "      <td>Lettuce</td>\n",
              "      <td>4</td>\n",
              "    </tr>\n",
              "    <tr>\n",
              "      <th>V5</th>\n",
              "      <td>Bitter Gourd</td>\n",
              "      <td>6</td>\n",
              "    </tr>\n",
              "    <tr>\n",
              "      <th rowspan=\"5\" valign=\"top\">Fruits</th>\n",
              "      <th>F1</th>\n",
              "      <td>Apple</td>\n",
              "      <td>10</td>\n",
              "    </tr>\n",
              "    <tr>\n",
              "      <th>F2</th>\n",
              "      <td>Banana</td>\n",
              "      <td>8</td>\n",
              "    </tr>\n",
              "    <tr>\n",
              "      <th>F3</th>\n",
              "      <td>Orange</td>\n",
              "      <td>12</td>\n",
              "    </tr>\n",
              "    <tr>\n",
              "      <th>F4</th>\n",
              "      <td>Kiwi</td>\n",
              "      <td>15</td>\n",
              "    </tr>\n",
              "    <tr>\n",
              "      <th>F5</th>\n",
              "      <td>Watermelon</td>\n",
              "      <td>11</td>\n",
              "    </tr>\n",
              "  </tbody>\n",
              "</table>\n",
              "</div>"
            ],
            "text/plain": [
              "                Food Ingredients  Prices/kg\n",
              "Categories Code                            \n",
              "Meats      M1            Chicken         20\n",
              "           M2               Pork         25\n",
              "           M3               Beef         20\n",
              "           M4               Lamb         30\n",
              "Seafoods   S1              Squid         20\n",
              "           S2              Prawn         35\n",
              "           S3               Crab         40\n",
              "           S4            Lobster         60\n",
              "Vegetables V1           Brocolli          9\n",
              "           V2             Carrot          5\n",
              "           V3             Tomato          8\n",
              "           V4            Lettuce          4\n",
              "           V5       Bitter Gourd          6\n",
              "Fruits     F1              Apple         10\n",
              "           F2             Banana          8\n",
              "           F3             Orange         12\n",
              "           F4               Kiwi         15\n",
              "           F5         Watermelon         11"
            ]
          },
          "metadata": {
            "tags": []
          },
          "execution_count": 30
        }
      ]
    },
    {
      "cell_type": "code",
      "metadata": {
        "id": "88O1Fr40qXnS"
      },
      "source": [
        "# A menu for Western Food\n",
        "# DEFAULT : Create a dictionary with Product Code as KEY, Price as VALUES\n",
        "\n",
        "# codes = {\"Chicken Burger\":       8,         \"Beef Burger\": 10,          \"Pork Burger\": 10,\n",
        "#          \"Hawaiian Pizza\":      25,     \"Pepperoni Pizza\": 28,           \"Lamb Pizza\": 30,     \"Seafood Pizza\": 35,\n",
        "#          \"Spaghetti Carbonara\": 28, \"Spaghetti Bolognese\": 25, \"Spaghetti Aglio Olio\": 30, \"Spaghetti Seafood\": 33,\n",
        "#          \"French Fries\":        10,       \"Cheezy Wedges\": 10,              \"Pancake\": 12}\n",
        "\n",
        "# foods_prices = {\"B1\":  8, \"B2\": 10, \"B3\": 10,\n",
        "#                 \"P1\": 25, \"P2\": 28, \"P3\": 30, \"P4\": 35,\n",
        "#                 \"S1\": 28, \"S2\": 25, \"S3\": 30, \"S4\": 33,\n",
        "#                 \"O1\": 10, \"O2\": 10, \"O3\": 12}"
      ],
      "execution_count": null,
      "outputs": []
    },
    {
      "cell_type": "code",
      "metadata": {
        "colab": {
          "base_uri": "https://localhost:8080/",
          "height": 518
        },
        "id": "HFzs-SHtqdmB",
        "outputId": "5fe6ddd4-8eb8-4d1b-8fb7-eecfed1eb10f"
      },
      "source": [
        "# Import pandas to create a data frame\n",
        "import pandas as pd\n",
        "\n",
        "my_matrix = [      [\"Chicken Burger\", 8],         [\"Pork Burger\", 10],          [\"Beef Burger\", 10],  \n",
        "                  [\"Hawaiian Pizza\", 25],     [\"Pepperoni Pizza\", 28],           [\"Lamb Pizza\", 30], [\"Seafood Pizza\", 35],\n",
        "             [\"Spaghetti Carbonara\", 28], [\"Spaghetti Bolognese\", 25], [\"Spaghetti Aglio Olio\", 30], [\"Spaghetti Seafood\", 33],\n",
        "                    [\"French Fries\", 10],       [\"Cheezy Wedges\", 10],             [\"Pancake\", 12]]\n",
        "\n",
        "outside = \"{0},{0},{0},{1},{1},{1},{1},{2},{2},{2},{2},{3},{3},{3}\"\\\n",
        "          .format(\"Burgers\", \"Pizzas\", \"Spaghetti\", \"Side Dishes\").split(\",\")\n",
        "inside  = ['B1', 'B2', 'B3', \n",
        "           'P1', 'P2', 'P3', 'P4',\n",
        "           'S1', 'S2', 'S3', 'S4', \n",
        "           'O1', 'O2', 'O3']\n",
        "hier_index = list(zip(outside,inside))             # To form a list of tuples\n",
        "hier_index = pd.MultiIndex.from_tuples(hier_index) # To form a multiindex from multiple tuples\n",
        "\n",
        "# To form a data frame by using pandas library\n",
        "# Name the index names\n",
        "WesternFoodMenu = pd.DataFrame(data = my_matrix, index = hier_index , columns = ['Western Food', 'Prices'])\n",
        "WesternFoodMenu.index.names = [\"Categories\", \"Code\"]\n",
        "WesternFoodMenu"
      ],
      "execution_count": null,
      "outputs": [
        {
          "output_type": "execute_result",
          "data": {
            "text/html": [
              "<div>\n",
              "<style scoped>\n",
              "    .dataframe tbody tr th:only-of-type {\n",
              "        vertical-align: middle;\n",
              "    }\n",
              "\n",
              "    .dataframe tbody tr th {\n",
              "        vertical-align: top;\n",
              "    }\n",
              "\n",
              "    .dataframe thead th {\n",
              "        text-align: right;\n",
              "    }\n",
              "</style>\n",
              "<table border=\"1\" class=\"dataframe\">\n",
              "  <thead>\n",
              "    <tr style=\"text-align: right;\">\n",
              "      <th></th>\n",
              "      <th></th>\n",
              "      <th>Western Food</th>\n",
              "      <th>Prices</th>\n",
              "    </tr>\n",
              "    <tr>\n",
              "      <th>Categories</th>\n",
              "      <th>Code</th>\n",
              "      <th></th>\n",
              "      <th></th>\n",
              "    </tr>\n",
              "  </thead>\n",
              "  <tbody>\n",
              "    <tr>\n",
              "      <th rowspan=\"3\" valign=\"top\">Burgers</th>\n",
              "      <th>B1</th>\n",
              "      <td>Chicken Burger</td>\n",
              "      <td>8</td>\n",
              "    </tr>\n",
              "    <tr>\n",
              "      <th>B2</th>\n",
              "      <td>Pork Burger</td>\n",
              "      <td>10</td>\n",
              "    </tr>\n",
              "    <tr>\n",
              "      <th>B3</th>\n",
              "      <td>Beef Burger</td>\n",
              "      <td>10</td>\n",
              "    </tr>\n",
              "    <tr>\n",
              "      <th rowspan=\"4\" valign=\"top\">Pizzas</th>\n",
              "      <th>P1</th>\n",
              "      <td>Hawaiian Pizza</td>\n",
              "      <td>25</td>\n",
              "    </tr>\n",
              "    <tr>\n",
              "      <th>P2</th>\n",
              "      <td>Pepperoni Pizza</td>\n",
              "      <td>28</td>\n",
              "    </tr>\n",
              "    <tr>\n",
              "      <th>P3</th>\n",
              "      <td>Lamb Pizza</td>\n",
              "      <td>30</td>\n",
              "    </tr>\n",
              "    <tr>\n",
              "      <th>P4</th>\n",
              "      <td>Seafood Pizza</td>\n",
              "      <td>35</td>\n",
              "    </tr>\n",
              "    <tr>\n",
              "      <th rowspan=\"4\" valign=\"top\">Spaghetti</th>\n",
              "      <th>S1</th>\n",
              "      <td>Spaghetti Carbonara</td>\n",
              "      <td>28</td>\n",
              "    </tr>\n",
              "    <tr>\n",
              "      <th>S2</th>\n",
              "      <td>Spaghetti Bolognese</td>\n",
              "      <td>25</td>\n",
              "    </tr>\n",
              "    <tr>\n",
              "      <th>S3</th>\n",
              "      <td>Spaghetti Aglio Olio</td>\n",
              "      <td>30</td>\n",
              "    </tr>\n",
              "    <tr>\n",
              "      <th>S4</th>\n",
              "      <td>Spaghetti Seafood</td>\n",
              "      <td>33</td>\n",
              "    </tr>\n",
              "    <tr>\n",
              "      <th rowspan=\"3\" valign=\"top\">Side Dishes</th>\n",
              "      <th>O1</th>\n",
              "      <td>French Fries</td>\n",
              "      <td>10</td>\n",
              "    </tr>\n",
              "    <tr>\n",
              "      <th>O2</th>\n",
              "      <td>Cheezy Wedges</td>\n",
              "      <td>10</td>\n",
              "    </tr>\n",
              "    <tr>\n",
              "      <th>O3</th>\n",
              "      <td>Pancake</td>\n",
              "      <td>12</td>\n",
              "    </tr>\n",
              "  </tbody>\n",
              "</table>\n",
              "</div>"
            ],
            "text/plain": [
              "                          Western Food  Prices\n",
              "Categories  Code                              \n",
              "Burgers     B1          Chicken Burger       8\n",
              "            B2             Pork Burger      10\n",
              "            B3             Beef Burger      10\n",
              "Pizzas      P1          Hawaiian Pizza      25\n",
              "            P2         Pepperoni Pizza      28\n",
              "            P3              Lamb Pizza      30\n",
              "            P4           Seafood Pizza      35\n",
              "Spaghetti   S1     Spaghetti Carbonara      28\n",
              "            S2     Spaghetti Bolognese      25\n",
              "            S3    Spaghetti Aglio Olio      30\n",
              "            S4       Spaghetti Seafood      33\n",
              "Side Dishes O1            French Fries      10\n",
              "            O2           Cheezy Wedges      10\n",
              "            O3                 Pancake      12"
            ]
          },
          "metadata": {
            "tags": []
          },
          "execution_count": 31
        }
      ]
    },
    {
      "cell_type": "markdown",
      "metadata": {
        "id": "pVkAvk_7qoDY"
      },
      "source": [
        "---\n",
        "### **Declare a Base Class (HappyFresh)**"
      ]
    },
    {
      "cell_type": "code",
      "metadata": {
        "id": "qzgKGcYNqnmu"
      },
      "source": [
        "import pandas as pd\n",
        "\n",
        "class HappyFresh:\n",
        "\n",
        "    def __init__(self, cust_name, TotalAmount = 0):\n",
        "        self.cust_name    = cust_name\n",
        "        self.TotalAmount  = TotalAmount\n",
        "        self.cart         = {}\n",
        "        \n",
        "    # Special Methods: Returns back the actual string representations, can print out defined objects easily\n",
        "    def __str__(self):\n",
        "        return (\"\"\".~~~~~~~~~~~~~~~~~~~~~~~~~~~~~~~~~~~~~~~~~~~~~~~~~~~~~~~~~~~~~~~~~~~~~~~~~~~~~~~~.\n",
        "| Good day {}, welcome to Happy Fresh store!                                    |\n",
        "| We have a wide variety of fresh offerings today.                               |\n",
        "| ** Special weeklong promotion extravaganza!!! **                               |\n",
        "|  ( Get 20% off your total order plus FREE delivery if you spend above RM100! ) |\n",
        "| Let's start shopping! =)                                                       |\n",
        ".~~~~~~~~~~~~~~~~~~~~~~~~~~~~~~~~~~~~~~~~~~~~~~~~~~~~~~~~~~~~~~~~~~~~~~~~~~~~~~~~.\"\"\".format(self.cust_name))\n",
        "\n",
        "\n",
        "    # Getter Method for getting the selected lists in shopping cart\n",
        "    def get_cart(self):\n",
        "        if self.TotalAmount < 100:\n",
        "            print(\"You may top up another RM{:.2f} to get 20% off and FREE delivery.\".format(100 - self.TotalAmount))\n",
        "        return (\"Your Shopping Cart: {}\".format(self.cart))\n",
        "\n",
        "    # Getter Method for getting the total amount for each customers         \n",
        "    def get_TotalAmount(self, deliveryFee = 10):\n",
        "        if self.TotalAmount == 0:\n",
        "            return (\"Your shopping cart is empty. Thank you for browsing our store. Hope to see you again next time. Have a good day!\")\n",
        "        elif self.TotalAmount < 100:\n",
        "            self.TotalAmount += deliveryFee\n",
        "            print(\"Your Shopping Cart: {}\".format(self.cart))\n",
        "            print(\"Delivery Fee : RM 10.00\")\n",
        "            print(\"Total Amount : RM {:.2f}\".format(self.TotalAmount))\n",
        "        else:\n",
        "            print(\"Your Shopping Cart: {}\".format(self.cart))\n",
        "            print(\"Total Saved (20%) : RM {:7.2f}\".format(self.TotalAmount * 0.2))\n",
        "            print(\"Total Amount      : RM {:7.2f}\".format(self.TotalAmount * 0.8))\n",
        "        return (\"Please proceed to checkout your cart. Thank you for shopping with us!\")"
      ],
      "execution_count": null,
      "outputs": []
    },
    {
      "cell_type": "markdown",
      "metadata": {
        "id": "MtNBnmtnsJ6l"
      },
      "source": [
        "---\n",
        "### **Declare First Derived Class for Food Ingredients Menu (FoodIngredients)**"
      ]
    },
    {
      "cell_type": "code",
      "metadata": {
        "id": "Q_8qNiv8tjoF"
      },
      "source": [
        "# For Food Ingredients Menu\n",
        "\n",
        "class FoodIngredients(HappyFresh):\n",
        "    def __init__(self, cust_name, TotalAmount = 0):\n",
        "        HappyFresh.__init__(self, cust_name, TotalAmount = 0)\n",
        "        self.foods_prices = {\"M1\": 20, \"M2\": 25, \"M3\": 20, \"M4\": 30, \n",
        "                             \"S1\": 20, \"S2\": 35, \"S3\": 40, \"S4\": 60,\n",
        "                             \"V1\":  9, \"V2\":  5, \"V3\":  8, \"V4\":  4, \"V5\":  6,\n",
        "                             \"F1\": 10, \"F2\":  8, \"F3\": 12, \"F4\": 15, \"F5\": 11}\n",
        "        \n",
        "    def get_menu(self):\n",
        "        my_matrix = [[\"Chicken\", 20],  [\"Pork\", 25],   [\"Beef\", 20], [\"Lamb\", 30],\n",
        "                       [\"Squid\", 20], [\"Prawn\", 35],   [\"Crab\", 40], [\"Lobster\", 60],\n",
        "                     [\"Brocolli\", 9], [\"Carrot\", 5],  [\"Tomato\", 8], [\"Lettuce\", 4], [\"Bitter Gourd\", 6], \n",
        "                       [\"Apple\", 10], [\"Banana\", 8], [\"Orange\", 12], [\"Kiwi\", 15], [\"Watermelon\", 11]]\n",
        "        outside = \"{0},{0},{0},{0},{1},{1},{1},{1},{2},{2},{2},{2},{2},{3},{3},{3},{3},{3}\"\\\n",
        "                  .format(\"Meats\", \"Seafoods\", \"Vegetables\", \"Fruits\").split(\",\")\n",
        "        inside  = ['M1', 'M2', 'M3', 'M4', \n",
        "                   'S1', 'S2', 'S3', 'S4',\n",
        "                   'V1', 'V2', 'V3', 'V4', 'V5', \n",
        "                   'F1', 'F2', 'F3', 'F4', 'F5']\n",
        "        hier_index = list(zip(outside,inside))\n",
        "        hier_index = pd.MultiIndex.from_tuples(hier_index)\n",
        "        FoodIngredientsMenu = pd.DataFrame(data = my_matrix, index = hier_index , columns = ['Food Ingredients', 'Prices/kg'])\n",
        "        FoodIngredientsMenu.index.names = [\"Categories\", \"Code\"]\n",
        "        \n",
        "        return FoodIngredientsMenu\n",
        "    \n",
        "        \n",
        "    # Getter Method for adding orders into cart\n",
        "    def add_orders(self, code, unit):\n",
        "        self.TotalAmount += self.foods_prices[code] * unit\n",
        "        self.cart[code] = unit\n",
        "    \n",
        "    # Getter Method for removing orders from cart\n",
        "    def remove_orders(self, code_to_be_removed, unit):\n",
        "        self.TotalAmount -= self.foods_prices[code_to_be_removed] * unit\n",
        "        self.cart.pop(code_to_be_removed)"
      ],
      "execution_count": null,
      "outputs": []
    },
    {
      "cell_type": "code",
      "metadata": {
        "colab": {
          "base_uri": "https://localhost:8080/",
          "height": 765
        },
        "id": "qsnB2dJisJEF",
        "outputId": "c8bca057-e6e7-4dd9-c4d9-5d446330c849"
      },
      "source": [
        "# 1. Create an instance of derived FoodIngredients() class\n",
        "# 2. To get the FoodIngredients menu\n",
        "customer1 = FoodIngredients(\"Don\")\n",
        "print(customer1)       # Returns back the actual string in def __str__(self)\n",
        "customer1.get_menu()"
      ],
      "execution_count": null,
      "outputs": [
        {
          "output_type": "stream",
          "text": [
            ".~~~~~~~~~~~~~~~~~~~~~~~~~~~~~~~~~~~~~~~~~~~~~~~~~~~~~~~~~~~~~~~~~~~~~~~~~~~~~~~~.\n",
            "| Good day Don, welcome to Happy Fresh store!                                    |\n",
            "| We have a wide variety of fresh offerings today.                               |\n",
            "| ** Special weeklong promotion extravaganza!!! **                               |\n",
            "|  ( Get 20% off your total order plus FREE delivery if you spend above RM100! ) |\n",
            "| Let's start shopping! =)                                                       |\n",
            ".~~~~~~~~~~~~~~~~~~~~~~~~~~~~~~~~~~~~~~~~~~~~~~~~~~~~~~~~~~~~~~~~~~~~~~~~~~~~~~~~.\n"
          ],
          "name": "stdout"
        },
        {
          "output_type": "execute_result",
          "data": {
            "text/html": [
              "<div>\n",
              "<style scoped>\n",
              "    .dataframe tbody tr th:only-of-type {\n",
              "        vertical-align: middle;\n",
              "    }\n",
              "\n",
              "    .dataframe tbody tr th {\n",
              "        vertical-align: top;\n",
              "    }\n",
              "\n",
              "    .dataframe thead th {\n",
              "        text-align: right;\n",
              "    }\n",
              "</style>\n",
              "<table border=\"1\" class=\"dataframe\">\n",
              "  <thead>\n",
              "    <tr style=\"text-align: right;\">\n",
              "      <th></th>\n",
              "      <th></th>\n",
              "      <th>Food Ingredients</th>\n",
              "      <th>Prices/kg</th>\n",
              "    </tr>\n",
              "    <tr>\n",
              "      <th>Categories</th>\n",
              "      <th>Code</th>\n",
              "      <th></th>\n",
              "      <th></th>\n",
              "    </tr>\n",
              "  </thead>\n",
              "  <tbody>\n",
              "    <tr>\n",
              "      <th rowspan=\"4\" valign=\"top\">Meats</th>\n",
              "      <th>M1</th>\n",
              "      <td>Chicken</td>\n",
              "      <td>20</td>\n",
              "    </tr>\n",
              "    <tr>\n",
              "      <th>M2</th>\n",
              "      <td>Pork</td>\n",
              "      <td>25</td>\n",
              "    </tr>\n",
              "    <tr>\n",
              "      <th>M3</th>\n",
              "      <td>Beef</td>\n",
              "      <td>20</td>\n",
              "    </tr>\n",
              "    <tr>\n",
              "      <th>M4</th>\n",
              "      <td>Lamb</td>\n",
              "      <td>30</td>\n",
              "    </tr>\n",
              "    <tr>\n",
              "      <th rowspan=\"4\" valign=\"top\">Seafoods</th>\n",
              "      <th>S1</th>\n",
              "      <td>Squid</td>\n",
              "      <td>20</td>\n",
              "    </tr>\n",
              "    <tr>\n",
              "      <th>S2</th>\n",
              "      <td>Prawn</td>\n",
              "      <td>35</td>\n",
              "    </tr>\n",
              "    <tr>\n",
              "      <th>S3</th>\n",
              "      <td>Crab</td>\n",
              "      <td>40</td>\n",
              "    </tr>\n",
              "    <tr>\n",
              "      <th>S4</th>\n",
              "      <td>Lobster</td>\n",
              "      <td>60</td>\n",
              "    </tr>\n",
              "    <tr>\n",
              "      <th rowspan=\"5\" valign=\"top\">Vegetables</th>\n",
              "      <th>V1</th>\n",
              "      <td>Brocolli</td>\n",
              "      <td>9</td>\n",
              "    </tr>\n",
              "    <tr>\n",
              "      <th>V2</th>\n",
              "      <td>Carrot</td>\n",
              "      <td>5</td>\n",
              "    </tr>\n",
              "    <tr>\n",
              "      <th>V3</th>\n",
              "      <td>Tomato</td>\n",
              "      <td>8</td>\n",
              "    </tr>\n",
              "    <tr>\n",
              "      <th>V4</th>\n",
              "      <td>Lettuce</td>\n",
              "      <td>4</td>\n",
              "    </tr>\n",
              "    <tr>\n",
              "      <th>V5</th>\n",
              "      <td>Bitter Gourd</td>\n",
              "      <td>6</td>\n",
              "    </tr>\n",
              "    <tr>\n",
              "      <th rowspan=\"5\" valign=\"top\">Fruits</th>\n",
              "      <th>F1</th>\n",
              "      <td>Apple</td>\n",
              "      <td>10</td>\n",
              "    </tr>\n",
              "    <tr>\n",
              "      <th>F2</th>\n",
              "      <td>Banana</td>\n",
              "      <td>8</td>\n",
              "    </tr>\n",
              "    <tr>\n",
              "      <th>F3</th>\n",
              "      <td>Orange</td>\n",
              "      <td>12</td>\n",
              "    </tr>\n",
              "    <tr>\n",
              "      <th>F4</th>\n",
              "      <td>Kiwi</td>\n",
              "      <td>15</td>\n",
              "    </tr>\n",
              "    <tr>\n",
              "      <th>F5</th>\n",
              "      <td>Watermelon</td>\n",
              "      <td>11</td>\n",
              "    </tr>\n",
              "  </tbody>\n",
              "</table>\n",
              "</div>"
            ],
            "text/plain": [
              "                Food Ingredients  Prices/kg\n",
              "Categories Code                            \n",
              "Meats      M1            Chicken         20\n",
              "           M2               Pork         25\n",
              "           M3               Beef         20\n",
              "           M4               Lamb         30\n",
              "Seafoods   S1              Squid         20\n",
              "           S2              Prawn         35\n",
              "           S3               Crab         40\n",
              "           S4            Lobster         60\n",
              "Vegetables V1           Brocolli          9\n",
              "           V2             Carrot          5\n",
              "           V3             Tomato          8\n",
              "           V4            Lettuce          4\n",
              "           V5       Bitter Gourd          6\n",
              "Fruits     F1              Apple         10\n",
              "           F2             Banana          8\n",
              "           F3             Orange         12\n",
              "           F4               Kiwi         15\n",
              "           F5         Watermelon         11"
            ]
          },
          "metadata": {
            "tags": []
          },
          "execution_count": 25
        }
      ]
    },
    {
      "cell_type": "code",
      "metadata": {
        "colab": {
          "base_uri": "https://localhost:8080/"
        },
        "id": "K7sruxYftpLT",
        "outputId": "990ce3f3-4190-48aa-e259-e7eae8df0dae"
      },
      "source": [
        "# 3. To add orders into cart: 2kg of Porks(M2), 1kg of Brocolli(V1), 3kg of Kiwi(F4)\n",
        "customer1.add_orders(\"M2\", 2)  # + RM 25 * 2 = RM  50\n",
        "customer1.add_orders(\"V1\", 1)  # + RM  9 * 1 = RM   9\n",
        "customer1.add_orders(\"F4\", 3)  # + RM 15 * 3 = RM  45\n",
        "\n",
        "# 4. To get the list of orders in my cart\n",
        "print(customer1.get_cart())"
      ],
      "execution_count": null,
      "outputs": [
        {
          "output_type": "stream",
          "text": [
            "Your Shopping Cart: {'M2': 2, 'V1': 1, 'F4': 3}\n"
          ],
          "name": "stdout"
        }
      ]
    },
    {
      "cell_type": "code",
      "metadata": {
        "colab": {
          "base_uri": "https://localhost:8080/"
        },
        "id": "iUugXSDitpVh",
        "outputId": "3d79cfa7-c483-4453-8273-8d6a88b8acb8"
      },
      "source": [
        "# 5. To remove orders from cart: 3kg of Kiwi(F4)\n",
        "customer1.remove_orders(\"F4\", 3)   # - RM 15 * 3 = RM  45\n",
        "\n",
        "# 6. To get the latest list of orders in my cart\n",
        "print(customer1.get_cart())"
      ],
      "execution_count": null,
      "outputs": [
        {
          "output_type": "stream",
          "text": [
            "You may top up another RM41.00 to get 20% off and FREE delivery.\n",
            "Your Shopping Cart: {'M2': 2, 'V1': 1}\n"
          ],
          "name": "stdout"
        }
      ]
    },
    {
      "cell_type": "code",
      "metadata": {
        "colab": {
          "base_uri": "https://localhost:8080/"
        },
        "id": "HMCjcjuQtpaH",
        "outputId": "9f189cca-41af-4868-d2fe-3740d1e7e131"
      },
      "source": [
        "# 7. To enjoy the 20% offer & free delivery, top up to RM100\n",
        "customer1.add_orders(\"S3\", 3)  # + RM 40 * 3 = RM 120\n",
        "\n",
        "# 8. To get the latest list of orders in my cart\n",
        "print(customer1.get_cart())"
      ],
      "execution_count": null,
      "outputs": [
        {
          "output_type": "stream",
          "text": [
            "Your Shopping Cart: {'M2': 2, 'V1': 1, 'S3': 3}\n"
          ],
          "name": "stdout"
        }
      ]
    },
    {
      "cell_type": "code",
      "metadata": {
        "colab": {
          "base_uri": "https://localhost:8080/"
        },
        "id": "XKwhLRGXshU3",
        "outputId": "7c36e50d-b74f-41c4-f7fe-cb356d7277e0"
      },
      "source": [
        "# 9. Done shopping! Ready to pay now!\n",
        "print(customer1.get_TotalAmount())  # RM 179 * 0.80 = RM143.20"
      ],
      "execution_count": null,
      "outputs": [
        {
          "output_type": "stream",
          "text": [
            "Your Shopping Cart: {'M2': 2, 'V1': 1, 'S3': 3}\n",
            "Total Saved (20%) : RM   35.80\n",
            "Total Amount      : RM  143.20\n",
            "Please proceed to checkout your cart. Thank you for shopping with us!\n"
          ],
          "name": "stdout"
        }
      ]
    },
    {
      "cell_type": "markdown",
      "metadata": {
        "id": "-yAtd9zdskYm"
      },
      "source": [
        "---\n",
        "### **Declare Second Derived Class for Western Food Menu (WesternFood)**"
      ]
    },
    {
      "cell_type": "code",
      "metadata": {
        "id": "UGM9Mwq-uWFm"
      },
      "source": [
        "# For Western Food Menu\n",
        "\n",
        "class WesternFood(HappyFresh):\n",
        "    def __init__(self, cust_name, TotalAmount = 0):\n",
        "        HappyFresh.__init__(self, cust_name, TotalAmount = 0)\n",
        "        self.foods_prices = {\"B1\":  8, \"B2\": 10, \"B3\": 10,\n",
        "                             \"P1\": 25, \"P2\": 28, \"P3\": 30, \"P4\": 35,\n",
        "                             \"S1\": 28, \"S2\": 25, \"S3\": 30, \"S4\": 33,\n",
        "                            \"O1\": 10, \"O2\": 10, \"O3\": 12}\n",
        "\n",
        "    \n",
        "    def get_menu(self):\n",
        "        my_matrix = [      [\"Chicken Burger\", 8],         [\"Pork Burger\", 10],          [\"Beef Burger\", 10],  \n",
        "                          [\"Hawaiian Pizza\", 25],     [\"Pepperoni Pizza\", 28],           [\"Lamb Pizza\", 30], [\"Seafood Pizza\", 35],\n",
        "                     [\"Spaghetti Carbonara\", 28], [\"Spaghetti Bolognese\", 25], [\"Spaghetti Aglio Olio\", 30], [\"Spaghetti Seafood\", 33],\n",
        "                            [\"French Fries\", 10],       [\"Cheezy Wedges\", 10],             [\"Pancake\", 12]]\n",
        "\n",
        "        outside = \"{0},{0},{0},{1},{1},{1},{1},{2},{2},{2},{2},{3},{3},{3}\"\\\n",
        "                  .format(\"Burgers\", \"Pizzas\", \"Spaghetti\", \"Side Dishes\").split(\",\")\n",
        "        inside  = ['B1', 'B2', 'B3', \n",
        "                   'P1', 'P2', 'P3', 'P4',\n",
        "                   'S1', 'S2', 'S3', 'S4', \n",
        "                   'O1', 'O2', 'O3']\n",
        "        hier_index = list(zip(outside,inside))             # To form a list of tuples\n",
        "        hier_index = pd.MultiIndex.from_tuples(hier_index) # To form a multiindex from multiple tuples\n",
        "        WesternFoodMenu = pd.DataFrame(data = my_matrix, index = hier_index , columns = ['Western Food', 'Prices'])\n",
        "        WesternFoodMenu.index.names = [\"Categories\", \"Code\"]\n",
        "        \n",
        "        return WesternFoodMenu\n",
        "    \n",
        "        \n",
        "    # Getter Method for adding orders into cart\n",
        "    def add_orders(self, code, unit):\n",
        "        self.TotalAmount += self.foods_prices[code] * unit\n",
        "        self.cart[code] = unit\n",
        "    \n",
        "    # Getter Method for removing orders from cart\n",
        "    def remove_orders(self, code_to_be_removed, unit):\n",
        "        self.TotalAmount -= self.foods_prices[code_to_be_removed] * unit\n",
        "        self.cart.pop(code_to_be_removed)"
      ],
      "execution_count": null,
      "outputs": []
    },
    {
      "cell_type": "code",
      "metadata": {
        "colab": {
          "base_uri": "https://localhost:8080/",
          "height": 639
        },
        "id": "1oYFqRoisJMP",
        "outputId": "71a2af25-9e05-4ed4-cce6-2bb69f01de51"
      },
      "source": [
        "# 1. Create an instance of derived WesternFood() class\n",
        "# 2. To get the WesternFood menu\n",
        "\n",
        "customer2 = WesternFood(\"Don\")\n",
        "print(customer2)       # Returns back the actual string in def __str__(self)\n",
        "customer2.get_menu()"
      ],
      "execution_count": null,
      "outputs": [
        {
          "output_type": "stream",
          "text": [
            ".~~~~~~~~~~~~~~~~~~~~~~~~~~~~~~~~~~~~~~~~~~~~~~~~~~~~~~~~~~~~~~~~~~~~~~~~~~~~~~~~.\n",
            "| Good day Don, welcome to Happy Fresh store!                                    |\n",
            "| We have a wide variety of fresh offerings today.                               |\n",
            "| ** Special weeklong promotion extravaganza!!! **                               |\n",
            "|  ( Get 20% off your total order plus FREE delivery if you spend above RM100! ) |\n",
            "| Let's start shopping! =)                                                       |\n",
            ".~~~~~~~~~~~~~~~~~~~~~~~~~~~~~~~~~~~~~~~~~~~~~~~~~~~~~~~~~~~~~~~~~~~~~~~~~~~~~~~~.\n"
          ],
          "name": "stdout"
        },
        {
          "output_type": "execute_result",
          "data": {
            "text/html": [
              "<div>\n",
              "<style scoped>\n",
              "    .dataframe tbody tr th:only-of-type {\n",
              "        vertical-align: middle;\n",
              "    }\n",
              "\n",
              "    .dataframe tbody tr th {\n",
              "        vertical-align: top;\n",
              "    }\n",
              "\n",
              "    .dataframe thead th {\n",
              "        text-align: right;\n",
              "    }\n",
              "</style>\n",
              "<table border=\"1\" class=\"dataframe\">\n",
              "  <thead>\n",
              "    <tr style=\"text-align: right;\">\n",
              "      <th></th>\n",
              "      <th></th>\n",
              "      <th>Western Food</th>\n",
              "      <th>Prices</th>\n",
              "    </tr>\n",
              "    <tr>\n",
              "      <th>Categories</th>\n",
              "      <th>Code</th>\n",
              "      <th></th>\n",
              "      <th></th>\n",
              "    </tr>\n",
              "  </thead>\n",
              "  <tbody>\n",
              "    <tr>\n",
              "      <th rowspan=\"3\" valign=\"top\">Burgers</th>\n",
              "      <th>B1</th>\n",
              "      <td>Chicken Burger</td>\n",
              "      <td>8</td>\n",
              "    </tr>\n",
              "    <tr>\n",
              "      <th>B2</th>\n",
              "      <td>Pork Burger</td>\n",
              "      <td>10</td>\n",
              "    </tr>\n",
              "    <tr>\n",
              "      <th>B3</th>\n",
              "      <td>Beef Burger</td>\n",
              "      <td>10</td>\n",
              "    </tr>\n",
              "    <tr>\n",
              "      <th rowspan=\"4\" valign=\"top\">Pizzas</th>\n",
              "      <th>P1</th>\n",
              "      <td>Hawaiian Pizza</td>\n",
              "      <td>25</td>\n",
              "    </tr>\n",
              "    <tr>\n",
              "      <th>P2</th>\n",
              "      <td>Pepperoni Pizza</td>\n",
              "      <td>28</td>\n",
              "    </tr>\n",
              "    <tr>\n",
              "      <th>P3</th>\n",
              "      <td>Lamb Pizza</td>\n",
              "      <td>30</td>\n",
              "    </tr>\n",
              "    <tr>\n",
              "      <th>P4</th>\n",
              "      <td>Seafood Pizza</td>\n",
              "      <td>35</td>\n",
              "    </tr>\n",
              "    <tr>\n",
              "      <th rowspan=\"4\" valign=\"top\">Spaghetti</th>\n",
              "      <th>S1</th>\n",
              "      <td>Spaghetti Carbonara</td>\n",
              "      <td>28</td>\n",
              "    </tr>\n",
              "    <tr>\n",
              "      <th>S2</th>\n",
              "      <td>Spaghetti Bolognese</td>\n",
              "      <td>25</td>\n",
              "    </tr>\n",
              "    <tr>\n",
              "      <th>S3</th>\n",
              "      <td>Spaghetti Aglio Olio</td>\n",
              "      <td>30</td>\n",
              "    </tr>\n",
              "    <tr>\n",
              "      <th>S4</th>\n",
              "      <td>Spaghetti Seafood</td>\n",
              "      <td>33</td>\n",
              "    </tr>\n",
              "    <tr>\n",
              "      <th rowspan=\"3\" valign=\"top\">Side Dishes</th>\n",
              "      <th>O1</th>\n",
              "      <td>French Fries</td>\n",
              "      <td>10</td>\n",
              "    </tr>\n",
              "    <tr>\n",
              "      <th>O2</th>\n",
              "      <td>Cheezy Wedges</td>\n",
              "      <td>10</td>\n",
              "    </tr>\n",
              "    <tr>\n",
              "      <th>O3</th>\n",
              "      <td>Pancake</td>\n",
              "      <td>12</td>\n",
              "    </tr>\n",
              "  </tbody>\n",
              "</table>\n",
              "</div>"
            ],
            "text/plain": [
              "                          Western Food  Prices\n",
              "Categories  Code                              \n",
              "Burgers     B1          Chicken Burger       8\n",
              "            B2             Pork Burger      10\n",
              "            B3             Beef Burger      10\n",
              "Pizzas      P1          Hawaiian Pizza      25\n",
              "            P2         Pepperoni Pizza      28\n",
              "            P3              Lamb Pizza      30\n",
              "            P4           Seafood Pizza      35\n",
              "Spaghetti   S1     Spaghetti Carbonara      28\n",
              "            S2     Spaghetti Bolognese      25\n",
              "            S3    Spaghetti Aglio Olio      30\n",
              "            S4       Spaghetti Seafood      33\n",
              "Side Dishes O1            French Fries      10\n",
              "            O2           Cheezy Wedges      10\n",
              "            O3                 Pancake      12"
            ]
          },
          "metadata": {
            "tags": []
          },
          "execution_count": 31
        }
      ]
    },
    {
      "cell_type": "code",
      "metadata": {
        "colab": {
          "base_uri": "https://localhost:8080/"
        },
        "id": "mf5XDiWOuWKn",
        "outputId": "37f30fd6-84be-4cdc-f60c-8cf450ea2118"
      },
      "source": [
        "# 3. To add orders into cart:         Pork Burger(B2) x 2, Lamb Pizza(P3) x 1,\n",
        "#                             Spaghetti Bolognese(S2) x 1, Spaghetti Seafood(S4) x 1\n",
        "customer2.add_orders(\"B2\", 2)  # + RM 10 * 2 = RM  20\n",
        "customer2.add_orders(\"P3\", 1)  # + RM 30 * 1 = RM  30\n",
        "customer2.add_orders(\"S2\", 1)  # + RM 25 * 1 = RM  25\n",
        "customer2.add_orders(\"S4\", 1)  # + RM 33 * 1 = RM  33\n",
        "\n",
        "# 4. To get the list of orders in my cart\n",
        "print(customer2.get_cart())"
      ],
      "execution_count": null,
      "outputs": [
        {
          "output_type": "stream",
          "text": [
            "Your Shopping Cart: {'B2': 2, 'P3': 1, 'S2': 1, 'S4': 1}\n"
          ],
          "name": "stdout"
        }
      ]
    },
    {
      "cell_type": "code",
      "metadata": {
        "colab": {
          "base_uri": "https://localhost:8080/"
        },
        "id": "-WQs3c9uuWPY",
        "outputId": "d0f2e2fa-faec-40aa-ea45-8cb5393a22d6"
      },
      "source": [
        "# 5. To remove orders from cart: Spaghetti Bolognese(S2) x 1\n",
        "customer2.remove_orders(\"S2\", 1)   # - RM 25 * 1 = RM  25\n",
        "\n",
        "# 6. To get the latest list of orders in my cart\n",
        "print(customer2.get_cart())"
      ],
      "execution_count": null,
      "outputs": [
        {
          "output_type": "stream",
          "text": [
            "You may top up another RM17.00 to get 20% off and FREE delivery.\n",
            "Your Shopping Cart: {'B2': 2, 'P3': 1, 'S4': 1}\n"
          ],
          "name": "stdout"
        }
      ]
    },
    {
      "cell_type": "code",
      "metadata": {
        "colab": {
          "base_uri": "https://localhost:8080/"
        },
        "id": "sP0f-4NFuWS3",
        "outputId": "159b2780-b1a2-4692-fe4f-0fce2f60d7d5"
      },
      "source": [
        "# 7. To enjoy the 20% offer & free delivery, top up to RM100\n",
        "customer2.add_orders(\"O1\", 1)  # + RM 10 * 1 = RM 10\n",
        "customer2.add_orders(\"O3\", 1)  # + RM 12 * 1 = RM 12\n",
        "\n",
        "# 8. To get the latest list of orders in my cart\n",
        "print(customer2.get_cart())"
      ],
      "execution_count": null,
      "outputs": [
        {
          "output_type": "stream",
          "text": [
            "Your Shopping Cart: {'B2': 2, 'P3': 1, 'S4': 1, 'O1': 1, 'O3': 1}\n"
          ],
          "name": "stdout"
        }
      ]
    },
    {
      "cell_type": "code",
      "metadata": {
        "colab": {
          "base_uri": "https://localhost:8080/"
        },
        "id": "3bKCfYs8vkkB",
        "outputId": "466a8010-e747-4d5c-8061-3b9e7f99622e"
      },
      "source": [
        "# 9. Done shopping! Ready to pay now!\n",
        "print(customer2.get_TotalAmount())  # RM 105 * 0.80 = RM 84.00"
      ],
      "execution_count": null,
      "outputs": [
        {
          "output_type": "stream",
          "text": [
            "Your Shopping Cart: {'B2': 2, 'P3': 1, 'S4': 1, 'O1': 1, 'O3': 1}\n",
            "Total Saved (20%) : RM   21.00\n",
            "Total Amount      : RM   84.00\n",
            "Please proceed to checkout your cart. Thank you for shopping with us!\n"
          ],
          "name": "stdout"
        }
      ]
    },
    {
      "cell_type": "markdown",
      "metadata": {
        "id": "cA8HkY460P11"
      },
      "source": [
        "### **Explaination**\n",
        "\n",
        "In this example, we have three classes: HappyFresh, FoodIngredients and WesternFood. The **HappyFresh** is the **base class**, the **FoodIngredients & WesternFood** are the **derived class**. \n",
        "\n",
        "The **derived** class **inherits** the **functionality** of the **base** class. \n",
        "* It is shown by the getters methods: `get_cart()`, `get_TotalAmount()`\n",
        "\n",
        "The **derived** classes **modifies existing behavior** of the **base** class. (Overwrite old method)\n",
        "* I didn't show in this example\n",
        "\n",
        "The **derived** classes **add on new instance & methods** for own use: \n",
        "* It is shown by the new instance: `self.foods_prices`\n",
        "* It is shown by the getters methods: `get_menu`\n",
        "* It is shown by the setters methods: `add_orders()`, `remove_orders`\n",
        "\n",
        "**Conclusion:** The **derived** class **extends the functionality** of the **base** class, by **defining 3 new** `get_menu()`, `add_orders()`, `remove_orders()` **methods.**"
      ]
    },
    {
      "cell_type": "markdown",
      "metadata": {
        "id": "vtrMcB8Ivo1i"
      },
      "source": [
        "---\n",
        "### **Simple User Input**"
      ]
    },
    {
      "cell_type": "code",
      "metadata": {
        "colab": {
          "base_uri": "https://localhost:8080/"
        },
        "id": "3oNGKbQfvksK",
        "outputId": "3c216809-e528-4cd1-827b-b864b0e0746e"
      },
      "source": [
        "# May ask for user input as well, below shows a simple user input\n",
        "# Then can proceed with more ques or manually set/ get the methods from the class\n",
        "\n",
        "while True:\n",
        "    ques = input(\"\"\"\n",
        "Welcome! Are you interested to purchase market groceries or western food from our deli?\n",
        "Enter '1' for groceries; Enter '2' for western food: \n",
        "\"\"\").strip()\n",
        "    \n",
        "    if ques == '1':\n",
        "        customer = FoodIngredients(\"Don\")\n",
        "        print(customer)\n",
        "        print(customer.get_menu())\n",
        "        break\n",
        "        \n",
        "    elif ques == '2': \n",
        "        customer = WesternFood(\"Don\")\n",
        "        print(customer)\n",
        "        print(customer.get_menu())\n",
        "        break\n",
        "        \n",
        "    else:\n",
        "        ques = input(\"\"\"Sorry, please try again. \n",
        "Enter '1' for groceries; Enter '2' for western food. \n",
        "Please press 'enter' to try again. \"\"\")"
      ],
      "execution_count": null,
      "outputs": [
        {
          "output_type": "stream",
          "text": [
            "\n",
            "Welcome! Are you interested to purchase market groceries or western food from our deli?\n",
            "Enter '1' for groceries; Enter '2' for western food: \n",
            "  groceries\n",
            "Sorry, please try again. \n",
            "Enter '1' for groceries; Enter '2' for western food. \n",
            "Please press 'enter' to try again. \n",
            "\n",
            "Welcome! Are you interested to purchase market groceries or western food from our deli?\n",
            "Enter '1' for groceries; Enter '2' for western food: \n",
            "1\n",
            ".~~~~~~~~~~~~~~~~~~~~~~~~~~~~~~~~~~~~~~~~~~~~~~~~~~~~~~~~~~~~~~~~~~~~~~~~~~~~~~~~.\n",
            "| Good day Don, welcome to Happy Fresh store!                                    |\n",
            "| We have a wide variety of fresh offerings today.                               |\n",
            "| ** Special weeklong promotion extravaganza!!! **                               |\n",
            "|  ( Get 20% off your total order plus FREE delivery if you spend above RM100! ) |\n",
            "| Let's start shopping! =)                                                       |\n",
            ".~~~~~~~~~~~~~~~~~~~~~~~~~~~~~~~~~~~~~~~~~~~~~~~~~~~~~~~~~~~~~~~~~~~~~~~~~~~~~~~~.\n",
            "                Food Ingredients  Prices/kg\n",
            "Categories Code                            \n",
            "Meats      M1            Chicken         20\n",
            "           M2               Pork         25\n",
            "           M3               Beef         20\n",
            "           M4               Lamb         30\n",
            "Seafoods   S1              Squid         20\n",
            "           S2              Prawn         35\n",
            "           S3               Crab         40\n",
            "           S4            Lobster         60\n",
            "Vegetables V1           Brocolli          9\n",
            "           V2             Carrot          5\n",
            "           V3             Tomato          8\n",
            "           V4            Lettuce          4\n",
            "           V5       Bitter Gourd          6\n",
            "Fruits     F1              Apple         10\n",
            "           F2             Banana          8\n",
            "           F3             Orange         12\n",
            "           F4               Kiwi         15\n",
            "           F5         Watermelon         11\n"
          ],
          "name": "stdout"
        }
      ]
    },
    {
      "cell_type": "markdown",
      "metadata": {
        "id": "6YHJsoVvwiRj"
      },
      "source": [
        "---\n",
        "## Part 3: **Polymorphism**\n",
        "\n",
        "We've learned that **functions** can **take in different arguments**, **methods** belong to the **objects they act on.** In Python, **polymorphism** refers to the way in which **different object classes** can **share the same method name,** and **those methods** can be **called from the same place even though a variety of different objects might be passed in.** \n",
        "\n",
        "For example:"
      ]
    },
    {
      "cell_type": "markdown",
      "metadata": {
        "id": "tv60zLe-yrkt"
      },
      "source": [
        "1. Declare a Base Class (HappyFresh)\n",
        "2. Declare First Derived Class for Food Ingredients Menu (FoodIngredients)\n",
        "3. Declare Second Derived Class for Western Food Menu (WesternFood)\n",
        "\n",
        "***Exactly same as part 2**"
      ]
    },
    {
      "cell_type": "code",
      "metadata": {
        "id": "pkJ-SZLNvkwD"
      },
      "source": [
        "# Base Class for HappyFresh object\n",
        "\n",
        "import pandas as pd\n",
        "\n",
        "class HappyFresh:\n",
        "\n",
        "    def __init__(self, cust_name, TotalAmount = 0):\n",
        "        self.cust_name    = cust_name\n",
        "        self.TotalAmount  = TotalAmount\n",
        "        self.cart         = {}\n",
        "        \n",
        "    # Special Methods: Returns back the actual string representations, can print out defined objects easily\n",
        "    def __str__(self):\n",
        "        return (\"\"\".~~~~~~~~~~~~~~~~~~~~~~~~~~~~~~~~~~~~~~~~~~~~~~~~~~~~~~~~~~~~~~~~~~~~~~~~~~~~~~~~.\n",
        "| Good day {}, welcome to Happy Fresh store!                                    |\n",
        "| We have a wide variety of fresh offerings today.                               |\n",
        "| ** Special weeklong promotion extravaganza!!! **                               |\n",
        "|  ( Get 20% off your total order plus FREE delivery if you spend above RM100! ) |\n",
        "| Let's start shopping! =)                                                       |\n",
        ".~~~~~~~~~~~~~~~~~~~~~~~~~~~~~~~~~~~~~~~~~~~~~~~~~~~~~~~~~~~~~~~~~~~~~~~~~~~~~~~~.\"\"\".format(self.cust_name))\n",
        "\n",
        "\n",
        "    # Getter Method for getting the selected lists in shopping cart\n",
        "    def get_cart(self):\n",
        "        if self.TotalAmount < 100:\n",
        "            print(\"You may top up another RM{:.2f} to get 20% off and FREE delivery.\".format(100 - self.TotalAmount))\n",
        "        return (\"Your Shopping Cart: {}\".format(self.cart))\n",
        "\n",
        "    # Getter Method for getting the total amount for each customers         \n",
        "    def get_TotalAmount(self, deliveryFee = 10):\n",
        "        if self.TotalAmount == 0:\n",
        "            return (\"Your shopping cart is empty. Thank you for browsing our store. Hope to see you again next time. Have a good day!\")\n",
        "        elif self.TotalAmount < 100:\n",
        "            self.TotalAmount += deliveryFee\n",
        "            print(\"Your Shopping Cart: {}\".format(self.cart))\n",
        "            print(\"Delivery Fee : RM 10.00\")\n",
        "            print(\"Total Amount : RM {:.2f}\".format(self.TotalAmount))\n",
        "        else:\n",
        "            print(\"Your Shopping Cart: {}\".format(self.cart))\n",
        "            print(\"Total Saved (20%) : RM {:7.2f}\".format(self.TotalAmount * 0.2))\n",
        "            print(\"Total Amount      : RM {:7.2f}\".format(self.TotalAmount * 0.8))\n",
        "        return (\"Please proceed to checkout your cart. Thank you for shopping with us!\")"
      ],
      "execution_count": null,
      "outputs": []
    },
    {
      "cell_type": "code",
      "metadata": {
        "id": "HFekTS-Ny6Y0"
      },
      "source": [
        "# 1st Derived Class for Food Ingredients Menu\n",
        "\n",
        "class FoodIngredients(HappyFresh):\n",
        "    def __init__(self, cust_name, TotalAmount = 0):\n",
        "        HappyFresh.__init__(self, cust_name, TotalAmount = 0)\n",
        "        self.foods_prices = {\"M1\": 20, \"M2\": 25, \"M3\": 20, \"M4\": 30, \n",
        "                             \"S1\": 20, \"S2\": 35, \"S3\": 40, \"S4\": 60,\n",
        "                             \"V1\":  9, \"V2\":  5, \"V3\":  8, \"V4\":  4, \"V5\":  6,\n",
        "                             \"F1\": 10, \"F2\":  8, \"F3\": 12, \"F4\": 15, \"F5\": 11}\n",
        "        \n",
        "    def get_menu(self):\n",
        "        my_matrix = [[\"Chicken\", 20],  [\"Pork\", 25],   [\"Beef\", 20], [\"Lamb\", 30],\n",
        "                       [\"Squid\", 20], [\"Prawn\", 35],   [\"Crab\", 40], [\"Lobster\", 60],\n",
        "                     [\"Brocolli\", 9], [\"Carrot\", 5],  [\"Tomato\", 8], [\"Lettuce\", 4], [\"Bitter Gourd\", 6], \n",
        "                       [\"Apple\", 10], [\"Banana\", 8], [\"Orange\", 12], [\"Kiwi\", 15], [\"Watermelon\", 11]]\n",
        "        outside = \"{0},{0},{0},{0},{1},{1},{1},{1},{2},{2},{2},{2},{2},{3},{3},{3},{3},{3}\"\\\n",
        "                  .format(\"Meats\", \"Seafoods\", \"Vegetables\", \"Fruits\").split(\",\")\n",
        "        inside  = ['M1', 'M2', 'M3', 'M4', \n",
        "                   'S1', 'S2', 'S3', 'S4',\n",
        "                   'V1', 'V2', 'V3', 'V4', 'V5', \n",
        "                   'F1', 'F2', 'F3', 'F4', 'F5']\n",
        "        hier_index = list(zip(outside,inside))\n",
        "        hier_index = pd.MultiIndex.from_tuples(hier_index)\n",
        "        FoodIngredientsMenu = pd.DataFrame(data = my_matrix, index = hier_index , columns = ['Food Ingredients', 'Prices/kg'])\n",
        "        FoodIngredientsMenu.index.names = [\"Categories\", \"Code\"]\n",
        "        \n",
        "        return FoodIngredientsMenu\n",
        "    \n",
        "        \n",
        "    # Getter Method for adding orders into cart\n",
        "    def add_orders(self, code, unit):\n",
        "        self.TotalAmount += self.foods_prices[code] * unit\n",
        "        self.cart[code] = unit\n",
        "    \n",
        "    # Getter Method for removing orders from cart\n",
        "    def remove_orders(self, code_to_be_removed, unit):\n",
        "        self.TotalAmount -= self.foods_prices[code_to_be_removed] * unit\n",
        "        self.cart.pop(code_to_be_removed)"
      ],
      "execution_count": null,
      "outputs": []
    },
    {
      "cell_type": "code",
      "metadata": {
        "id": "jqNgFYWNy6hb"
      },
      "source": [
        "# 2nd Derived Class for Western Food Menu\n",
        "\n",
        "class WesternFood(HappyFresh):\n",
        "    def __init__(self, cust_name, TotalAmount = 0):\n",
        "        HappyFresh.__init__(self, cust_name, TotalAmount = 0)\n",
        "        self.foods_prices = {\"B1\":  8, \"B2\": 10, \"B3\": 10,\n",
        "                             \"P1\": 25, \"P2\": 28, \"P3\": 30, \"P4\": 35,\n",
        "                             \"S1\": 28, \"S2\": 25, \"S3\": 30, \"S4\": 33,\n",
        "                            \"O1\": 10, \"O2\": 10, \"O3\": 12}\n",
        "\n",
        "    \n",
        "    def get_menu(self):\n",
        "        my_matrix = [      [\"Chicken Burger\", 8],         [\"Pork Burger\", 10],          [\"Beef Burger\", 10],  \n",
        "                          [\"Hawaiian Pizza\", 25],     [\"Pepperoni Pizza\", 28],           [\"Lamb Pizza\", 30], [\"Seafood Pizza\", 35],\n",
        "                     [\"Spaghetti Carbonara\", 28], [\"Spaghetti Bolognese\", 25], [\"Spaghetti Aglio Olio\", 30], [\"Spaghetti Seafood\", 33],\n",
        "                            [\"French Fries\", 10],       [\"Cheezy Wedges\", 10],             [\"Pancake\", 12]]\n",
        "\n",
        "        outside = \"{0},{0},{0},{1},{1},{1},{1},{2},{2},{2},{2},{3},{3},{3}\"\\\n",
        "                  .format(\"Burgers\", \"Pizzas\", \"Spaghetti\", \"Side Dishes\").split(\",\")\n",
        "        inside  = ['B1', 'B2', 'B3', \n",
        "                   'P1', 'P2', 'P3', 'P4',\n",
        "                   'S1', 'S2', 'S3', 'S4', \n",
        "                   'O1', 'O2', 'O3']\n",
        "        hier_index = list(zip(outside,inside))             # To form a list of tuples\n",
        "        hier_index = pd.MultiIndex.from_tuples(hier_index) # To form a multiindex from multiple tuples\n",
        "        WesternFoodMenu = pd.DataFrame(data = my_matrix, index = hier_index , columns = ['Western Food', 'Prices'])\n",
        "        WesternFoodMenu.index.names = [\"Categories\", \"Code\"]\n",
        "        \n",
        "        return WesternFoodMenu\n",
        "    \n",
        "        \n",
        "    # Getter Method for adding orders into cart\n",
        "    def add_orders(self, code, unit):\n",
        "        self.TotalAmount += self.foods_prices[code] * unit\n",
        "        self.cart[code] = unit\n",
        "    \n",
        "    # Getter Method for removing orders from cart\n",
        "    def remove_orders(self, code_to_be_removed, unit):\n",
        "        self.TotalAmount -= self.foods_prices[code_to_be_removed] * unit\n",
        "        self.cart.pop(code_to_be_removed)"
      ],
      "execution_count": null,
      "outputs": []
    },
    {
      "cell_type": "code",
      "metadata": {
        "colab": {
          "base_uri": "https://localhost:8080/"
        },
        "id": "cTucG-VlG4vg",
        "outputId": "4a610d6f-7f99-4456-f33b-efababb7aa35"
      },
      "source": [
        "Customer1 = FoodIngredients(\"Shawn\")\n",
        "Customer2 = WesternFood(\"Lisa\")\n",
        "\n",
        "print(Customer1.cust_name)\n",
        "print(Customer2.cust_name)"
      ],
      "execution_count": null,
      "outputs": [
        {
          "output_type": "stream",
          "text": [
            "Shawn\n",
            "Lisa\n"
          ],
          "name": "stdout"
        }
      ]
    },
    {
      "cell_type": "markdown",
      "metadata": {
        "id": "aDlYcChczlq4"
      },
      "source": [
        "Here we have 2 derived classes. \\\n",
        "Each has a `.get_menu()` method.\n",
        "When the method is called, each object's `.get_menu()` method **returns** a result **unique** to the object.\n",
        "\n",
        "There are a **few different ways** to demonstrate **polymorphism.**"
      ]
    },
    {
      "cell_type": "markdown",
      "metadata": {
        "id": "I9UMTKk24OZF"
      },
      "source": [
        "---\n",
        "### First way: **For Loop**"
      ]
    },
    {
      "cell_type": "code",
      "metadata": {
        "colab": {
          "base_uri": "https://localhost:8080/"
        },
        "id": "5-tpmZ2jHu1K",
        "outputId": "60ff74a3-b6af-40a0-f696-65f44941a732"
      },
      "source": [
        "for customer in [Customer1, Customer2]: # for customer in [FoodIngredients('Shawn'), WesternFood('Lisa')]\n",
        "    print(type(customer))\n",
        "    print(customer.cust_name)"
      ],
      "execution_count": null,
      "outputs": [
        {
          "output_type": "stream",
          "text": [
            "<class '__main__.FoodIngredients'>\n",
            "Shawn\n",
            "<class '__main__.WesternFood'>\n",
            "Lisa\n"
          ],
          "name": "stdout"
        }
      ]
    },
    {
      "cell_type": "code",
      "metadata": {
        "colab": {
          "base_uri": "https://localhost:8080/"
        },
        "id": "_rqM5n7f3QDi",
        "outputId": "a2784d5c-076c-4115-e5b6-144b657facb6"
      },
      "source": [
        "for customer in [Customer1, Customer2]: # for customer in [FoodIngredients('Shawn'), WesternFood('Lisa')]\n",
        "    print(type(customer))\n",
        "    print(customer.get_menu())"
      ],
      "execution_count": null,
      "outputs": [
        {
          "output_type": "stream",
          "text": [
            "<class '__main__.FoodIngredients'>\n",
            "                Food Ingredients  Prices/kg\n",
            "Categories Code                            \n",
            "Meats      M1            Chicken         20\n",
            "           M2               Pork         25\n",
            "           M3               Beef         20\n",
            "           M4               Lamb         30\n",
            "Seafoods   S1              Squid         20\n",
            "           S2              Prawn         35\n",
            "           S3               Crab         40\n",
            "           S4            Lobster         60\n",
            "Vegetables V1           Brocolli          9\n",
            "           V2             Carrot          5\n",
            "           V3             Tomato          8\n",
            "           V4            Lettuce          4\n",
            "           V5       Bitter Gourd          6\n",
            "Fruits     F1              Apple         10\n",
            "           F2             Banana          8\n",
            "           F3             Orange         12\n",
            "           F4               Kiwi         15\n",
            "           F5         Watermelon         11\n",
            "<class '__main__.WesternFood'>\n",
            "                          Western Food  Prices\n",
            "Categories  Code                              \n",
            "Burgers     B1          Chicken Burger       8\n",
            "            B2             Pork Burger      10\n",
            "            B3             Beef Burger      10\n",
            "Pizzas      P1          Hawaiian Pizza      25\n",
            "            P2         Pepperoni Pizza      28\n",
            "            P3              Lamb Pizza      30\n",
            "            P4           Seafood Pizza      35\n",
            "Spaghetti   S1     Spaghetti Carbonara      28\n",
            "            S2     Spaghetti Bolognese      25\n",
            "            S3    Spaghetti Aglio Olio      30\n",
            "            S4       Spaghetti Seafood      33\n",
            "Side Dishes O1            French Fries      10\n",
            "            O2           Cheezy Wedges      10\n",
            "            O3                 Pancake      12\n"
          ],
          "name": "stdout"
        }
      ]
    },
    {
      "cell_type": "markdown",
      "metadata": {
        "id": "yzePimW55O_H"
      },
      "source": [
        "---\n",
        "### Second way: **Functions**"
      ]
    },
    {
      "cell_type": "code",
      "metadata": {
        "colab": {
          "base_uri": "https://localhost:8080/"
        },
        "id": "-Fn-WZPEINOi",
        "outputId": "4a610d6f-7f99-4456-f33b-efababb7aa35"
      },
      "source": [
        "def customer_names(customer):\n",
        "    print(customer.cust_name)\n",
        "\n",
        "customer_names(Customer1)  # customer_names(FoodIngredients('Shawn'))\n",
        "customer_names(Customer2)  # customer_names(WesternFood('Lisa'))"
      ],
      "execution_count": null,
      "outputs": [
        {
          "output_type": "stream",
          "text": [
            "Shawn\n",
            "Lisa\n"
          ],
          "name": "stdout"
        }
      ]
    },
    {
      "cell_type": "code",
      "metadata": {
        "colab": {
          "base_uri": "https://localhost:8080/"
        },
        "id": "SWwBBv7L3QJn",
        "outputId": "5f7ce3e1-e0cf-4c55-af10-ecf764649c6e"
      },
      "source": [
        "def customer_names(customer):\n",
        "    print(customer.get_menu())\n",
        "\n",
        "customer_names(Customer1)  # customer_names(FoodIngredients('Shawn'))\n",
        "customer_names(Customer2)  # customer_names(WesternFood('Lisa'))"
      ],
      "execution_count": null,
      "outputs": [
        {
          "output_type": "stream",
          "text": [
            "                Food Ingredients  Prices/kg\n",
            "Categories Code                            \n",
            "Meats      M1            Chicken         20\n",
            "           M2               Pork         25\n",
            "           M3               Beef         20\n",
            "           M4               Lamb         30\n",
            "Seafoods   S1              Squid         20\n",
            "           S2              Prawn         35\n",
            "           S3               Crab         40\n",
            "           S4            Lobster         60\n",
            "Vegetables V1           Brocolli          9\n",
            "           V2             Carrot          5\n",
            "           V3             Tomato          8\n",
            "           V4            Lettuce          4\n",
            "           V5       Bitter Gourd          6\n",
            "Fruits     F1              Apple         10\n",
            "           F2             Banana          8\n",
            "           F3             Orange         12\n",
            "           F4               Kiwi         15\n",
            "           F5         Watermelon         11\n",
            "                          Western Food  Prices\n",
            "Categories  Code                              \n",
            "Burgers     B1          Chicken Burger       8\n",
            "            B2             Pork Burger      10\n",
            "            B3             Beef Burger      10\n",
            "Pizzas      P1          Hawaiian Pizza      25\n",
            "            P2         Pepperoni Pizza      28\n",
            "            P3              Lamb Pizza      30\n",
            "            P4           Seafood Pizza      35\n",
            "Spaghetti   S1     Spaghetti Carbonara      28\n",
            "            S2     Spaghetti Bolognese      25\n",
            "            S3    Spaghetti Aglio Olio      30\n",
            "            S4       Spaghetti Seafood      33\n",
            "Side Dishes O1            French Fries      10\n",
            "            O2           Cheezy Wedges      10\n",
            "            O3                 Pancake      12\n"
          ],
          "name": "stdout"
        }
      ]
    },
    {
      "cell_type": "markdown",
      "metadata": {
        "id": "tQMljaU2585a"
      },
      "source": [
        "---\n",
        "## **Future Improvement:**\n",
        "\n",
        "This is just a simple food ordering design system.\n",
        "\n",
        "It can be improved by designing a visual dashboard using Django Library.\n"
      ]
    }
  ]
}